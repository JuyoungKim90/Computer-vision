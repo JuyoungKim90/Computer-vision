{
  "cells": [
    {
      "cell_type": "markdown",
      "metadata": {
        "id": "OyywplPhpzDt"
      },
      "source": [
        "# COMP5318 - Machine Learning and Data Mining: Assignment 1\n",
        "#Team 139 \n",
        "### Due: Friday week 7 - Fri 8 April 2022 11:59PM\n"
      ]
    },
    {
      "cell_type": "markdown",
      "metadata": {
        "id": "LEFLYE_Ws_g5"
      },
      "source": [
        "# Import library and Import data"
      ]
    },
    {
      "cell_type": "code",
      "execution_count": null,
      "metadata": {
        "colab": {
          "base_uri": "https://localhost:8080/"
        },
        "id": "7B2-4GdFp1Dl",
        "outputId": "e6927338-2565-42cf-a34a-302844f038e6"
      },
      "outputs": [
        {
          "output_type": "stream",
          "name": "stdout",
          "text": [
            "Drive already mounted at /content/gdrive; to attempt to forcibly remount, call drive.mount(\"/content/gdrive\", force_remount=True).\n"
          ]
        }
      ],
      "source": [
        "import os\n",
        "import warnings\n",
        "import numpy as np\n",
        "import pandas as pd \n",
        "import seaborn as sns\n",
        "from sklearn import tree\n",
        "from sklearn import metrics\n",
        "from sklearn.svm import SVC\n",
        "import matplotlib.pyplot as plt\n",
        "from sklearn import preprocessing\n",
        "from google.colab import drive\n",
        "drive.mount('/content/gdrive')\n",
        "\n",
        "\n",
        "from sklearn.naive_bayes import GaussianNB\n",
        "from sklearn.naive_bayes import BernoulliNB\n",
        "from sklearn.naive_bayes import ComplementNB\n",
        "from sklearn.naive_bayes import MultinomialNB\n",
        "\n",
        "\n",
        "from sklearn.linear_model import LogisticRegression\n",
        "from sklearn.metrics import plot_confusion_matrix \n",
        "from sklearn.metrics import accuracy_score \n",
        "from sklearn.metrics import classification_report \n",
        "from sklearn.metrics import confusion_matrix \n",
        "\n",
        "from sklearn.ensemble import BaggingClassifier\n",
        "from sklearn.ensemble import AdaBoostClassifier\n",
        "from sklearn.ensemble import RandomForestClassifier\n",
        "\n",
        "from lightgbm import LGBMClassifier\n",
        "\n",
        "from sklearn.neural_network import MLPClassifier\n",
        "from sklearn.tree import DecisionTreeClassifier\n",
        "from sklearn.exceptions import ConvergenceWarning\n",
        "from sklearn.model_selection import GridSearchCV\n",
        "from sklearn.preprocessing import StandardScaler\n",
        "from sklearn.decomposition import PCA\n",
        "from sklearn.neighbors import KNeighborsClassifier ##\n"
      ]
    },
    {
      "cell_type": "code",
      "execution_count": null,
      "metadata": {
        "id": "lUbpX7qgq8Mk"
      },
      "outputs": [],
      "source": [
        "df_train = pd.read_csv('/content/gdrive/MyDrive/Input/train/train.csv') \n",
        "df_test = pd.read_csv('/content/gdrive/MyDrive/Input/test/test_input.csv')"
      ]
    },
    {
      "cell_type": "markdown",
      "metadata": {
        "id": "A3e3DZyOvfxA"
      },
      "source": [
        "# Data Understanding"
      ]
    },
    {
      "cell_type": "markdown",
      "metadata": {
        "id": "YjW8cfwnty-i"
      },
      "source": [
        "\n",
        "There are 10 classes in total:    \n",
        "- 0 T-shirt/Top    \n",
        "- 1 Trouser    \n",
        "- 2 Pullover    \n",
        "- 3 Dress    \n",
        "- 4 Coat    \n",
        "- 5 Sandal    \n",
        "- 6 Shirt    \n",
        "- 7 Sneaker    \n",
        "- 8 Bag    \n",
        "- 9 Ankle boot"
      ]
    },
    {
      "cell_type": "markdown",
      "metadata": {
        "id": "3DUXoWF4uB2y"
      },
      "source": [
        "## Basic information about the data"
      ]
    },
    {
      "cell_type": "code",
      "execution_count": null,
      "metadata": {
        "colab": {
          "base_uri": "https://localhost:8080/"
        },
        "id": "6W74owE7tGjh",
        "outputId": "48a47064-4ca0-4ec7-b38c-de8be6eb7ab7"
      },
      "outputs": [
        {
          "name": "stdout",
          "output_type": "stream",
          "text": [
            "Train data information\n",
            "<class 'pandas.core.frame.DataFrame'>\n",
            "RangeIndex: 30000 entries, 0 to 29999\n",
            "Columns: 786 entries, id to label\n",
            "dtypes: int64(786)\n",
            "memory usage: 179.9 MB\n",
            "None\n",
            "Train data shape is (30000, 786)\n",
            "=========================\n",
            "Test data information\n",
            "<class 'pandas.core.frame.DataFrame'>\n",
            "RangeIndex: 5000 entries, 0 to 4999\n",
            "Columns: 785 entries, id to v784\n",
            "dtypes: int64(785)\n",
            "memory usage: 29.9 MB\n",
            "None\n",
            "Test data shape is (5000, 785)\n"
          ]
        }
      ],
      "source": [
        "print(\"Train data information\")\n",
        "print(df_train.info())\n",
        "print('Train data shape is', df_train.shape)\n",
        "print(\"=========================\")\n",
        "print(\"Test data information\")\n",
        "print(df_test.info())\n",
        "print('Test data shape is', df_test.shape)"
      ]
    },
    {
      "cell_type": "markdown",
      "metadata": {
        "id": "hTVZcfrzkE_2"
      },
      "source": [
        "Train data information\n",
        "<class 'pandas.core.frame.DataFrame'>\n",
        "RangeIndex: 30000 entries, 0 to 29999\n",
        "Columns: 786 entries, id to label\n",
        "dtypes: int64(786)\n",
        "memory usage: 179.9 MB\n",
        "None\n",
        "Train data shape is (30000, 786)\n",
        "\n",
        "\n",
        "Test data information\n",
        "<class 'pandas.core.frame.DataFrame'>\n",
        "RangeIndex: 5000 entries, 0 to 4999\n",
        "Columns: 785 entries, id to v784\n",
        "dtypes: int64(785)\n",
        "memory usage: 29.9 MB\n",
        "None\n",
        "Test data shape is (5000, 785)"
      ]
    },
    {
      "cell_type": "markdown",
      "metadata": {
        "id": "HOI4n5ioxvds"
      },
      "source": [
        "## Print head"
      ]
    },
    {
      "cell_type": "markdown",
      "metadata": {
        "id": "HjvrKgoxu8sD"
      },
      "source": [
        "Print top 5 row in trainset"
      ]
    },
    {
      "cell_type": "code",
      "execution_count": null,
      "metadata": {
        "colab": {
          "base_uri": "https://localhost:8080/"
        },
        "id": "m0xzPk44t_Ko",
        "outputId": "32b64410-a68f-408f-b51b-0db6ed9c9dbf"
      },
      "outputs": [
        {
          "data": {
            "text/html": [
              "\n",
              "  <div id=\"df-90a3dc3e-0aad-4d2d-aaa8-eadc0b82c8c7\">\n",
              "    <div class=\"colab-df-container\">\n",
              "      <div>\n",
              "<style scoped>\n",
              "    .dataframe tbody tr th:only-of-type {\n",
              "        vertical-align: middle;\n",
              "    }\n",
              "\n",
              "    .dataframe tbody tr th {\n",
              "        vertical-align: top;\n",
              "    }\n",
              "\n",
              "    .dataframe thead th {\n",
              "        text-align: right;\n",
              "    }\n",
              "</style>\n",
              "<table border=\"1\" class=\"dataframe\">\n",
              "  <thead>\n",
              "    <tr style=\"text-align: right;\">\n",
              "      <th></th>\n",
              "      <th>id</th>\n",
              "      <th>v1</th>\n",
              "      <th>v2</th>\n",
              "      <th>v3</th>\n",
              "      <th>v4</th>\n",
              "      <th>v5</th>\n",
              "      <th>v6</th>\n",
              "      <th>v7</th>\n",
              "      <th>v8</th>\n",
              "      <th>v9</th>\n",
              "      <th>...</th>\n",
              "      <th>v776</th>\n",
              "      <th>v777</th>\n",
              "      <th>v778</th>\n",
              "      <th>v779</th>\n",
              "      <th>v780</th>\n",
              "      <th>v781</th>\n",
              "      <th>v782</th>\n",
              "      <th>v783</th>\n",
              "      <th>v784</th>\n",
              "      <th>label</th>\n",
              "    </tr>\n",
              "  </thead>\n",
              "  <tbody>\n",
              "    <tr>\n",
              "      <th>0</th>\n",
              "      <td>0</td>\n",
              "      <td>0</td>\n",
              "      <td>0</td>\n",
              "      <td>0</td>\n",
              "      <td>0</td>\n",
              "      <td>1</td>\n",
              "      <td>0</td>\n",
              "      <td>0</td>\n",
              "      <td>131</td>\n",
              "      <td>184</td>\n",
              "      <td>...</td>\n",
              "      <td>143</td>\n",
              "      <td>106</td>\n",
              "      <td>0</td>\n",
              "      <td>0</td>\n",
              "      <td>0</td>\n",
              "      <td>0</td>\n",
              "      <td>0</td>\n",
              "      <td>0</td>\n",
              "      <td>0</td>\n",
              "      <td>2</td>\n",
              "    </tr>\n",
              "    <tr>\n",
              "      <th>1</th>\n",
              "      <td>1</td>\n",
              "      <td>0</td>\n",
              "      <td>0</td>\n",
              "      <td>0</td>\n",
              "      <td>0</td>\n",
              "      <td>0</td>\n",
              "      <td>0</td>\n",
              "      <td>0</td>\n",
              "      <td>0</td>\n",
              "      <td>27</td>\n",
              "      <td>...</td>\n",
              "      <td>190</td>\n",
              "      <td>178</td>\n",
              "      <td>0</td>\n",
              "      <td>0</td>\n",
              "      <td>0</td>\n",
              "      <td>0</td>\n",
              "      <td>0</td>\n",
              "      <td>0</td>\n",
              "      <td>0</td>\n",
              "      <td>1</td>\n",
              "    </tr>\n",
              "    <tr>\n",
              "      <th>2</th>\n",
              "      <td>2</td>\n",
              "      <td>0</td>\n",
              "      <td>0</td>\n",
              "      <td>0</td>\n",
              "      <td>0</td>\n",
              "      <td>0</td>\n",
              "      <td>0</td>\n",
              "      <td>0</td>\n",
              "      <td>0</td>\n",
              "      <td>0</td>\n",
              "      <td>...</td>\n",
              "      <td>0</td>\n",
              "      <td>0</td>\n",
              "      <td>0</td>\n",
              "      <td>0</td>\n",
              "      <td>0</td>\n",
              "      <td>0</td>\n",
              "      <td>0</td>\n",
              "      <td>0</td>\n",
              "      <td>0</td>\n",
              "      <td>1</td>\n",
              "    </tr>\n",
              "    <tr>\n",
              "      <th>3</th>\n",
              "      <td>3</td>\n",
              "      <td>0</td>\n",
              "      <td>0</td>\n",
              "      <td>0</td>\n",
              "      <td>1</td>\n",
              "      <td>0</td>\n",
              "      <td>0</td>\n",
              "      <td>0</td>\n",
              "      <td>1</td>\n",
              "      <td>1</td>\n",
              "      <td>...</td>\n",
              "      <td>1</td>\n",
              "      <td>0</td>\n",
              "      <td>9</td>\n",
              "      <td>66</td>\n",
              "      <td>61</td>\n",
              "      <td>0</td>\n",
              "      <td>0</td>\n",
              "      <td>0</td>\n",
              "      <td>0</td>\n",
              "      <td>4</td>\n",
              "    </tr>\n",
              "    <tr>\n",
              "      <th>4</th>\n",
              "      <td>4</td>\n",
              "      <td>0</td>\n",
              "      <td>0</td>\n",
              "      <td>0</td>\n",
              "      <td>0</td>\n",
              "      <td>0</td>\n",
              "      <td>0</td>\n",
              "      <td>0</td>\n",
              "      <td>0</td>\n",
              "      <td>0</td>\n",
              "      <td>...</td>\n",
              "      <td>0</td>\n",
              "      <td>0</td>\n",
              "      <td>0</td>\n",
              "      <td>0</td>\n",
              "      <td>0</td>\n",
              "      <td>0</td>\n",
              "      <td>0</td>\n",
              "      <td>0</td>\n",
              "      <td>0</td>\n",
              "      <td>8</td>\n",
              "    </tr>\n",
              "  </tbody>\n",
              "</table>\n",
              "<p>5 rows × 786 columns</p>\n",
              "</div>\n",
              "      <button class=\"colab-df-convert\" onclick=\"convertToInteractive('df-90a3dc3e-0aad-4d2d-aaa8-eadc0b82c8c7')\"\n",
              "              title=\"Convert this dataframe to an interactive table.\"\n",
              "              style=\"display:none;\">\n",
              "        \n",
              "  <svg xmlns=\"http://www.w3.org/2000/svg\" height=\"24px\"viewBox=\"0 0 24 24\"\n",
              "       width=\"24px\">\n",
              "    <path d=\"M0 0h24v24H0V0z\" fill=\"none\"/>\n",
              "    <path d=\"M18.56 5.44l.94 2.06.94-2.06 2.06-.94-2.06-.94-.94-2.06-.94 2.06-2.06.94zm-11 1L8.5 8.5l.94-2.06 2.06-.94-2.06-.94L8.5 2.5l-.94 2.06-2.06.94zm10 10l.94 2.06.94-2.06 2.06-.94-2.06-.94-.94-2.06-.94 2.06-2.06.94z\"/><path d=\"M17.41 7.96l-1.37-1.37c-.4-.4-.92-.59-1.43-.59-.52 0-1.04.2-1.43.59L10.3 9.45l-7.72 7.72c-.78.78-.78 2.05 0 2.83L4 21.41c.39.39.9.59 1.41.59.51 0 1.02-.2 1.41-.59l7.78-7.78 2.81-2.81c.8-.78.8-2.07 0-2.86zM5.41 20L4 18.59l7.72-7.72 1.47 1.35L5.41 20z\"/>\n",
              "  </svg>\n",
              "      </button>\n",
              "      \n",
              "  <style>\n",
              "    .colab-df-container {\n",
              "      display:flex;\n",
              "      flex-wrap:wrap;\n",
              "      gap: 12px;\n",
              "    }\n",
              "\n",
              "    .colab-df-convert {\n",
              "      background-color: #E8F0FE;\n",
              "      border: none;\n",
              "      border-radius: 50%;\n",
              "      cursor: pointer;\n",
              "      display: none;\n",
              "      fill: #1967D2;\n",
              "      height: 32px;\n",
              "      padding: 0 0 0 0;\n",
              "      width: 32px;\n",
              "    }\n",
              "\n",
              "    .colab-df-convert:hover {\n",
              "      background-color: #E2EBFA;\n",
              "      box-shadow: 0px 1px 2px rgba(60, 64, 67, 0.3), 0px 1px 3px 1px rgba(60, 64, 67, 0.15);\n",
              "      fill: #174EA6;\n",
              "    }\n",
              "\n",
              "    [theme=dark] .colab-df-convert {\n",
              "      background-color: #3B4455;\n",
              "      fill: #D2E3FC;\n",
              "    }\n",
              "\n",
              "    [theme=dark] .colab-df-convert:hover {\n",
              "      background-color: #434B5C;\n",
              "      box-shadow: 0px 1px 3px 1px rgba(0, 0, 0, 0.15);\n",
              "      filter: drop-shadow(0px 1px 2px rgba(0, 0, 0, 0.3));\n",
              "      fill: #FFFFFF;\n",
              "    }\n",
              "  </style>\n",
              "\n",
              "      <script>\n",
              "        const buttonEl =\n",
              "          document.querySelector('#df-90a3dc3e-0aad-4d2d-aaa8-eadc0b82c8c7 button.colab-df-convert');\n",
              "        buttonEl.style.display =\n",
              "          google.colab.kernel.accessAllowed ? 'block' : 'none';\n",
              "\n",
              "        async function convertToInteractive(key) {\n",
              "          const element = document.querySelector('#df-90a3dc3e-0aad-4d2d-aaa8-eadc0b82c8c7');\n",
              "          const dataTable =\n",
              "            await google.colab.kernel.invokeFunction('convertToInteractive',\n",
              "                                                     [key], {});\n",
              "          if (!dataTable) return;\n",
              "\n",
              "          const docLinkHtml = 'Like what you see? Visit the ' +\n",
              "            '<a target=\"_blank\" href=https://colab.research.google.com/notebooks/data_table.ipynb>data table notebook</a>'\n",
              "            + ' to learn more about interactive tables.';\n",
              "          element.innerHTML = '';\n",
              "          dataTable['output_type'] = 'display_data';\n",
              "          await google.colab.output.renderOutput(dataTable, element);\n",
              "          const docLink = document.createElement('div');\n",
              "          docLink.innerHTML = docLinkHtml;\n",
              "          element.appendChild(docLink);\n",
              "        }\n",
              "      </script>\n",
              "    </div>\n",
              "  </div>\n",
              "  "
            ],
            "text/plain": [
              "   id  v1  v2  v3  v4  v5  v6  v7   v8   v9  ...  v776  v777  v778  v779  \\\n",
              "0   0   0   0   0   0   1   0   0  131  184  ...   143   106     0     0   \n",
              "1   1   0   0   0   0   0   0   0    0   27  ...   190   178     0     0   \n",
              "2   2   0   0   0   0   0   0   0    0    0  ...     0     0     0     0   \n",
              "3   3   0   0   0   1   0   0   0    1    1  ...     1     0     9    66   \n",
              "4   4   0   0   0   0   0   0   0    0    0  ...     0     0     0     0   \n",
              "\n",
              "   v780  v781  v782  v783  v784  label  \n",
              "0     0     0     0     0     0      2  \n",
              "1     0     0     0     0     0      1  \n",
              "2     0     0     0     0     0      1  \n",
              "3    61     0     0     0     0      4  \n",
              "4     0     0     0     0     0      8  \n",
              "\n",
              "[5 rows x 786 columns]"
            ]
          },
          "execution_count": 4,
          "metadata": {},
          "output_type": "execute_result"
        }
      ],
      "source": [
        "df_train.head()"
      ]
    },
    {
      "cell_type": "markdown",
      "metadata": {
        "id": "wwIe1RZ3u9pK"
      },
      "source": [
        "Print top 5 row in testset"
      ]
    },
    {
      "cell_type": "code",
      "execution_count": null,
      "metadata": {
        "colab": {
          "base_uri": "https://localhost:8080/"
        },
        "id": "LvCt24BWuIS6",
        "outputId": "a3ee35e2-3e1d-4357-c393-b9f54dbbdd99"
      },
      "outputs": [
        {
          "data": {
            "text/html": [
              "\n",
              "  <div id=\"df-fa3cf0a1-52d7-427e-b589-6daa8dccf3ed\">\n",
              "    <div class=\"colab-df-container\">\n",
              "      <div>\n",
              "<style scoped>\n",
              "    .dataframe tbody tr th:only-of-type {\n",
              "        vertical-align: middle;\n",
              "    }\n",
              "\n",
              "    .dataframe tbody tr th {\n",
              "        vertical-align: top;\n",
              "    }\n",
              "\n",
              "    .dataframe thead th {\n",
              "        text-align: right;\n",
              "    }\n",
              "</style>\n",
              "<table border=\"1\" class=\"dataframe\">\n",
              "  <thead>\n",
              "    <tr style=\"text-align: right;\">\n",
              "      <th></th>\n",
              "      <th>id</th>\n",
              "      <th>v1</th>\n",
              "      <th>v2</th>\n",
              "      <th>v3</th>\n",
              "      <th>v4</th>\n",
              "      <th>v5</th>\n",
              "      <th>v6</th>\n",
              "      <th>v7</th>\n",
              "      <th>v8</th>\n",
              "      <th>v9</th>\n",
              "      <th>...</th>\n",
              "      <th>v775</th>\n",
              "      <th>v776</th>\n",
              "      <th>v777</th>\n",
              "      <th>v778</th>\n",
              "      <th>v779</th>\n",
              "      <th>v780</th>\n",
              "      <th>v781</th>\n",
              "      <th>v782</th>\n",
              "      <th>v783</th>\n",
              "      <th>v784</th>\n",
              "    </tr>\n",
              "  </thead>\n",
              "  <tbody>\n",
              "    <tr>\n",
              "      <th>0</th>\n",
              "      <td>0</td>\n",
              "      <td>0</td>\n",
              "      <td>0</td>\n",
              "      <td>0</td>\n",
              "      <td>0</td>\n",
              "      <td>0</td>\n",
              "      <td>0</td>\n",
              "      <td>0</td>\n",
              "      <td>0</td>\n",
              "      <td>0</td>\n",
              "      <td>...</td>\n",
              "      <td>88</td>\n",
              "      <td>0</td>\n",
              "      <td>0</td>\n",
              "      <td>0</td>\n",
              "      <td>0</td>\n",
              "      <td>0</td>\n",
              "      <td>0</td>\n",
              "      <td>0</td>\n",
              "      <td>0</td>\n",
              "      <td>0</td>\n",
              "    </tr>\n",
              "    <tr>\n",
              "      <th>1</th>\n",
              "      <td>1</td>\n",
              "      <td>0</td>\n",
              "      <td>0</td>\n",
              "      <td>0</td>\n",
              "      <td>0</td>\n",
              "      <td>0</td>\n",
              "      <td>0</td>\n",
              "      <td>0</td>\n",
              "      <td>0</td>\n",
              "      <td>17</td>\n",
              "      <td>...</td>\n",
              "      <td>124</td>\n",
              "      <td>0</td>\n",
              "      <td>0</td>\n",
              "      <td>0</td>\n",
              "      <td>0</td>\n",
              "      <td>0</td>\n",
              "      <td>0</td>\n",
              "      <td>0</td>\n",
              "      <td>0</td>\n",
              "      <td>0</td>\n",
              "    </tr>\n",
              "    <tr>\n",
              "      <th>2</th>\n",
              "      <td>2</td>\n",
              "      <td>0</td>\n",
              "      <td>0</td>\n",
              "      <td>0</td>\n",
              "      <td>0</td>\n",
              "      <td>0</td>\n",
              "      <td>0</td>\n",
              "      <td>0</td>\n",
              "      <td>0</td>\n",
              "      <td>0</td>\n",
              "      <td>...</td>\n",
              "      <td>35</td>\n",
              "      <td>0</td>\n",
              "      <td>0</td>\n",
              "      <td>0</td>\n",
              "      <td>0</td>\n",
              "      <td>0</td>\n",
              "      <td>0</td>\n",
              "      <td>0</td>\n",
              "      <td>0</td>\n",
              "      <td>0</td>\n",
              "    </tr>\n",
              "    <tr>\n",
              "      <th>3</th>\n",
              "      <td>3</td>\n",
              "      <td>0</td>\n",
              "      <td>0</td>\n",
              "      <td>0</td>\n",
              "      <td>0</td>\n",
              "      <td>0</td>\n",
              "      <td>0</td>\n",
              "      <td>0</td>\n",
              "      <td>9</td>\n",
              "      <td>75</td>\n",
              "      <td>...</td>\n",
              "      <td>74</td>\n",
              "      <td>53</td>\n",
              "      <td>19</td>\n",
              "      <td>0</td>\n",
              "      <td>1</td>\n",
              "      <td>0</td>\n",
              "      <td>0</td>\n",
              "      <td>0</td>\n",
              "      <td>0</td>\n",
              "      <td>0</td>\n",
              "    </tr>\n",
              "    <tr>\n",
              "      <th>4</th>\n",
              "      <td>4</td>\n",
              "      <td>0</td>\n",
              "      <td>0</td>\n",
              "      <td>0</td>\n",
              "      <td>0</td>\n",
              "      <td>0</td>\n",
              "      <td>0</td>\n",
              "      <td>0</td>\n",
              "      <td>1</td>\n",
              "      <td>1</td>\n",
              "      <td>...</td>\n",
              "      <td>0</td>\n",
              "      <td>1</td>\n",
              "      <td>0</td>\n",
              "      <td>0</td>\n",
              "      <td>0</td>\n",
              "      <td>0</td>\n",
              "      <td>0</td>\n",
              "      <td>0</td>\n",
              "      <td>0</td>\n",
              "      <td>0</td>\n",
              "    </tr>\n",
              "  </tbody>\n",
              "</table>\n",
              "<p>5 rows × 785 columns</p>\n",
              "</div>\n",
              "      <button class=\"colab-df-convert\" onclick=\"convertToInteractive('df-fa3cf0a1-52d7-427e-b589-6daa8dccf3ed')\"\n",
              "              title=\"Convert this dataframe to an interactive table.\"\n",
              "              style=\"display:none;\">\n",
              "        \n",
              "  <svg xmlns=\"http://www.w3.org/2000/svg\" height=\"24px\"viewBox=\"0 0 24 24\"\n",
              "       width=\"24px\">\n",
              "    <path d=\"M0 0h24v24H0V0z\" fill=\"none\"/>\n",
              "    <path d=\"M18.56 5.44l.94 2.06.94-2.06 2.06-.94-2.06-.94-.94-2.06-.94 2.06-2.06.94zm-11 1L8.5 8.5l.94-2.06 2.06-.94-2.06-.94L8.5 2.5l-.94 2.06-2.06.94zm10 10l.94 2.06.94-2.06 2.06-.94-2.06-.94-.94-2.06-.94 2.06-2.06.94z\"/><path d=\"M17.41 7.96l-1.37-1.37c-.4-.4-.92-.59-1.43-.59-.52 0-1.04.2-1.43.59L10.3 9.45l-7.72 7.72c-.78.78-.78 2.05 0 2.83L4 21.41c.39.39.9.59 1.41.59.51 0 1.02-.2 1.41-.59l7.78-7.78 2.81-2.81c.8-.78.8-2.07 0-2.86zM5.41 20L4 18.59l7.72-7.72 1.47 1.35L5.41 20z\"/>\n",
              "  </svg>\n",
              "      </button>\n",
              "      \n",
              "  <style>\n",
              "    .colab-df-container {\n",
              "      display:flex;\n",
              "      flex-wrap:wrap;\n",
              "      gap: 12px;\n",
              "    }\n",
              "\n",
              "    .colab-df-convert {\n",
              "      background-color: #E8F0FE;\n",
              "      border: none;\n",
              "      border-radius: 50%;\n",
              "      cursor: pointer;\n",
              "      display: none;\n",
              "      fill: #1967D2;\n",
              "      height: 32px;\n",
              "      padding: 0 0 0 0;\n",
              "      width: 32px;\n",
              "    }\n",
              "\n",
              "    .colab-df-convert:hover {\n",
              "      background-color: #E2EBFA;\n",
              "      box-shadow: 0px 1px 2px rgba(60, 64, 67, 0.3), 0px 1px 3px 1px rgba(60, 64, 67, 0.15);\n",
              "      fill: #174EA6;\n",
              "    }\n",
              "\n",
              "    [theme=dark] .colab-df-convert {\n",
              "      background-color: #3B4455;\n",
              "      fill: #D2E3FC;\n",
              "    }\n",
              "\n",
              "    [theme=dark] .colab-df-convert:hover {\n",
              "      background-color: #434B5C;\n",
              "      box-shadow: 0px 1px 3px 1px rgba(0, 0, 0, 0.15);\n",
              "      filter: drop-shadow(0px 1px 2px rgba(0, 0, 0, 0.3));\n",
              "      fill: #FFFFFF;\n",
              "    }\n",
              "  </style>\n",
              "\n",
              "      <script>\n",
              "        const buttonEl =\n",
              "          document.querySelector('#df-fa3cf0a1-52d7-427e-b589-6daa8dccf3ed button.colab-df-convert');\n",
              "        buttonEl.style.display =\n",
              "          google.colab.kernel.accessAllowed ? 'block' : 'none';\n",
              "\n",
              "        async function convertToInteractive(key) {\n",
              "          const element = document.querySelector('#df-fa3cf0a1-52d7-427e-b589-6daa8dccf3ed');\n",
              "          const dataTable =\n",
              "            await google.colab.kernel.invokeFunction('convertToInteractive',\n",
              "                                                     [key], {});\n",
              "          if (!dataTable) return;\n",
              "\n",
              "          const docLinkHtml = 'Like what you see? Visit the ' +\n",
              "            '<a target=\"_blank\" href=https://colab.research.google.com/notebooks/data_table.ipynb>data table notebook</a>'\n",
              "            + ' to learn more about interactive tables.';\n",
              "          element.innerHTML = '';\n",
              "          dataTable['output_type'] = 'display_data';\n",
              "          await google.colab.output.renderOutput(dataTable, element);\n",
              "          const docLink = document.createElement('div');\n",
              "          docLink.innerHTML = docLinkHtml;\n",
              "          element.appendChild(docLink);\n",
              "        }\n",
              "      </script>\n",
              "    </div>\n",
              "  </div>\n",
              "  "
            ],
            "text/plain": [
              "   id  v1  v2  v3  v4  v5  v6  v7  v8  v9  ...  v775  v776  v777  v778  v779  \\\n",
              "0   0   0   0   0   0   0   0   0   0   0  ...    88     0     0     0     0   \n",
              "1   1   0   0   0   0   0   0   0   0  17  ...   124     0     0     0     0   \n",
              "2   2   0   0   0   0   0   0   0   0   0  ...    35     0     0     0     0   \n",
              "3   3   0   0   0   0   0   0   0   9  75  ...    74    53    19     0     1   \n",
              "4   4   0   0   0   0   0   0   0   1   1  ...     0     1     0     0     0   \n",
              "\n",
              "   v780  v781  v782  v783  v784  \n",
              "0     0     0     0     0     0  \n",
              "1     0     0     0     0     0  \n",
              "2     0     0     0     0     0  \n",
              "3     0     0     0     0     0  \n",
              "4     0     0     0     0     0  \n",
              "\n",
              "[5 rows x 785 columns]"
            ]
          },
          "execution_count": 5,
          "metadata": {},
          "output_type": "execute_result"
        }
      ],
      "source": [
        "df_test.head()"
      ]
    },
    {
      "cell_type": "markdown",
      "metadata": {
        "id": "4HmZp_wqHlN8"
      },
      "source": [
        "## Plot the graph"
      ]
    },
    {
      "cell_type": "code",
      "execution_count": null,
      "metadata": {
        "id": "LnyZbX2aHgjO"
      },
      "outputs": [],
      "source": [
        "# Select the feature and label\n",
        "df_train_feature = df_train.loc[:, \"v1\":\"v784\"].to_numpy()\n",
        "df_train_label = df_train.label.to_numpy()\n",
        "df_test_feature = df_test.loc[:, \"v1\":\"v784\"].to_numpy()\n",
        "df_test_label = df_test['v1'].to_numpy()"
      ]
    },
    {
      "cell_type": "code",
      "execution_count": null,
      "metadata": {
        "colab": {
          "base_uri": "https://localhost:8080/",
          "height": 299
        },
        "id": "ihadWoi8IKOw",
        "outputId": "f368a2e0-b87e-4a49-95c6-8e1a1f06a5c8"
      },
      "outputs": [
        {
          "data": {
            "text/plain": [
              "Text(0.5, 1.0, 'Class 1')"
            ]
          },
          "execution_count": 7,
          "metadata": {},
          "output_type": "execute_result"
        },
        {
          "data": {
            "image/png": "[encoded data removed]",
            "text/plain": [
              "<Figure size 432x288 with 1 Axes>"
            ]
          },
          "metadata": {},
          "output_type": "display_data"
        }
      ],
      "source": [
        "# Print out the image from the trainning dataset\n",
        "df_train_feature = df_train_feature.reshape((df_train_feature.shape[0],28,28))\n",
        "plt.imshow(df_train_feature[1], cmap = plt.get_cmap('Blues'))\n",
        "plt.title(\"Class \" + str(df_train_label[1]))"
      ]
    },
    {
      "cell_type": "code",
      "execution_count": null,
      "metadata": {
        "colab": {
          "base_uri": "https://localhost:8080/",
          "height": 299
        },
        "id": "J4em0nLIIKZg",
        "outputId": "e2262297-e7aa-4de0-a076-1609e658c0c8"
      },
      "outputs": [
        {
          "data": {
            "text/plain": [
              "Text(0.5, 1.0, 'Class 0')"
            ]
          },
          "execution_count": 8,
          "metadata": {},
          "output_type": "execute_result"
        },
        {
          "data": {
            "image/png": "[encoded data removed]",
            "text/plain": [
              "<Figure size 432x288 with 1 Axes>"
            ]
          },
          "metadata": {},
          "output_type": "display_data"
        }
      ],
      "source": [
        "# Print out the image from the testing dataset\n",
        "df_test_feature = df_test_feature.reshape((df_test_feature.shape[0],28,28))\n",
        "plt.imshow(df_test_feature[1], cmap = plt.get_cmap('Blues'))\n",
        "plt.title(\"Class \" + str(df_test_label[1]))"
      ]
    },
    {
      "cell_type": "markdown",
      "metadata": {
        "id": "xaJdKyBJwhFy"
      },
      "source": [
        "# Data cleanning"
      ]
    },
    {
      "cell_type": "markdown",
      "metadata": {
        "id": "8p0BqLaDxLBF"
      },
      "source": [
        "## Missing values check"
      ]
    },
    {
      "cell_type": "code",
      "execution_count": null,
      "metadata": {
        "colab": {
          "base_uri": "https://localhost:8080/"
        },
        "id": "5nvpDLYBxgf5",
        "outputId": "b910e23d-e61b-41d4-d8ab-912bae3e0cd9"
      },
      "outputs": [
        {
          "name": "stdout",
          "output_type": "stream",
          "text": [
            "Train missing values: 0\n",
            "Test missing values: 0\n"
          ]
        }
      ],
      "source": [
        "df = pd.concat([df_train,df_test], ignore_index=True)\n",
        "df.isnull().sum().sort_values(ascending=True)\n",
        "print(\"Train missing values:\", df_train.isnull().any().sum())\n",
        "print(\"Test missing values:\", df_test.isnull().any().sum())"
      ]
    },
    {
      "cell_type": "markdown",
      "metadata": {
        "id": "elzYWvkOj3wU"
      },
      "source": [
        "Train missing values: 0\n",
        "\n",
        "Test missing values: 0"
      ]
    },
    {
      "cell_type": "markdown",
      "metadata": {
        "id": "6HkndNhMxLKu"
      },
      "source": [
        "## Noise"
      ]
    },
    {
      "cell_type": "code",
      "execution_count": null,
      "metadata": {
        "colab": {
          "base_uri": "https://localhost:8080/"
        },
        "id": "itCWCnTNxhAi",
        "outputId": "fce21b37-88b9-492e-cb53-bd5e53d3e389"
      },
      "outputs": [
        {
          "name": "stdout",
          "output_type": "stream",
          "text": [
            "All the lebel in trainset are in type of <class 'numpy.int64'> .\n"
          ]
        }
      ],
      "source": [
        "print(\"All the lebel in trainset are in type of \"+ str(type(df_train['label'][1]))+\" .\")"
      ]
    },
    {
      "cell_type": "markdown",
      "metadata": {
        "id": "CdCXYOy9j0-d"
      },
      "source": [
        "All the lebel in trainset are in type of <class 'numpy.int64'> ."
      ]
    },
    {
      "cell_type": "markdown",
      "metadata": {
        "id": "U-IuS0CmxLR-"
      },
      "source": [
        "## Class balance"
      ]
    },
    {
      "cell_type": "code",
      "execution_count": null,
      "metadata": {
        "colab": {
          "base_uri": "https://localhost:8080/"
        },
        "id": "2VQdGwEWxhYf",
        "outputId": "5250cae7-6040-458d-d96e-e2e502b4d00c"
      },
      "outputs": [
        {
          "name": "stdout",
          "output_type": "stream",
          "text": [
            "Category of the label [2 1 4 8 5 7 3 0 9 6]\n",
            "Number of classification is 10\n"
          ]
        }
      ],
      "source": [
        "print(\"Category of the label\", df_train['label'].unique())\n",
        "print(\"Number of classification is\", len(df_train['label'].unique()))"
      ]
    },
    {
      "cell_type": "markdown",
      "metadata": {
        "id": "39925Ba_jy-Z"
      },
      "source": [
        "Category of the label [2 1 4 8 5 7 3 0 9 6]\n",
        "\n",
        "Number of classification is 10"
      ]
    },
    {
      "cell_type": "code",
      "execution_count": null,
      "metadata": {
        "colab": {
          "base_uri": "https://localhost:8080/",
          "height": 570
        },
        "id": "scDwEfrsyrjQ",
        "outputId": "ebde04f6-6a9f-44d5-b215-dee3aa0e7c6c"
      },
      "outputs": [
        {
          "name": "stdout",
          "output_type": "stream",
          "text": [
            "2    3036\n",
            "3    3028\n",
            "1    3026\n",
            "7    3023\n",
            "8    3007\n",
            "6    3001\n",
            "4    2985\n",
            "0    2972\n",
            "5    2967\n",
            "9    2955\n",
            "Name: label, dtype: int64\n",
            "Each class has similar number of value\n"
          ]
        },
        {
          "name": "stderr",
          "output_type": "stream",
          "text": [
            "/usr/local/lib/python3.7/dist-packages/seaborn/_decorators.py:43: FutureWarning: Pass the following variable as a keyword arg: x. From version 0.12, the only valid positional argument will be `data`, and passing other arguments without an explicit keyword will result in an error or misinterpretation.\n",
            "  FutureWarning\n"
          ]
        },
        {
          "data": {
            "text/plain": [
              "<matplotlib.axes._subplots.AxesSubplot at 0x7fad3428af10>"
            ]
          },
          "execution_count": 11,
          "metadata": {},
          "output_type": "execute_result"
        },
        {
          "data": {
            "image/png": "[encoded data removed]",
            "text/plain": [
              "<Figure size 432x288 with 1 Axes>"
            ]
          },
          "metadata": {},
          "output_type": "display_data"
        }
      ],
      "source": [
        "print(df_train['label'].value_counts())\n",
        "print(\"Each class has similar number of value\")\n",
        "Y_train = df_train[\"label\"]\n",
        "plt.title(\"countplot for each category\")\n",
        "sns.countplot(Y_train)"
      ]
    },
    {
      "cell_type": "markdown",
      "metadata": {
        "id": "wL1DZydwjt-N"
      },
      "source": [
        "2    3036\n",
        "\n",
        "3    3028\n",
        "\n",
        "1    3026\n",
        "\n",
        "7    3023\n",
        "\n",
        "8    3007\n",
        "\n",
        "6    3001\n",
        "\n",
        "4    2985\n",
        "\n",
        "0    2972\n",
        "\n",
        "5    2967\n",
        "\n",
        "9    2955"
      ]
    },
    {
      "cell_type": "markdown",
      "metadata": {
        "id": "P4rOr4m33CWm"
      },
      "source": [
        "# Data preprocessing"
      ]
    },
    {
      "cell_type": "markdown",
      "metadata": {
        "id": "GOnovIsbIbq1"
      },
      "source": [
        "Data Splitting "
      ]
    },
    {
      "cell_type": "code",
      "execution_count": null,
      "metadata": {
        "colab": {
          "base_uri": "https://localhost:8080/"
        },
        "id": "3LqeXgpb3LLu",
        "outputId": "d5455422-208a-4e15-c18c-6aae6ce9a4b7"
      },
      "outputs": [
        {
          "output_type": "stream",
          "name": "stdout",
          "text": [
            "CPU times: user 122 ms, sys: 171 ms, total: 293 ms\n",
            "Wall time: 298 ms\n"
          ]
        }
      ],
      "source": [
        "%%time\n",
        "# split 28000 for train and last 2000 for test\n",
        "X_train = df_train.drop('label', axis=1)[:28000]\n",
        "y_train = df_train['label'][:28000]\n",
        "X_test = df_train.drop('label', axis=1)[-2000:]\n",
        "y_test = df_train['label'][-2000:]"
      ]
    },
    {
      "cell_type": "markdown",
      "metadata": {
        "id": "P9VwuhmwjpB3"
      },
      "source": [
        "CPU times: user 31.4 ms, sys: 33.1 ms, total: 64.5 ms\n",
        "Wall time: 63.6 ms"
      ]
    },
    {
      "cell_type": "markdown",
      "metadata": {
        "id": "ckfPdIE6Ipd7"
      },
      "source": [
        "Original data"
      ]
    },
    {
      "cell_type": "code",
      "execution_count": null,
      "metadata": {
        "colab": {
          "base_uri": "https://localhost:8080/"
        },
        "id": "CajEdfiLIj6D",
        "outputId": "981a81f0-a2ce-4889-9ddd-e24fb11ac3ad"
      },
      "outputs": [
        {
          "output_type": "stream",
          "name": "stdout",
          "text": [
            "Standard deviation of the train dataset:  581.4288141963353\n",
            "Standard deviation of the test dataset:  1035.874263355892\n"
          ]
        }
      ],
      "source": [
        "#Original data\n",
        "sd_train=np.nanstd(X_train)\n",
        "sd_test=np.nanstd(X_test)\n",
        "print('Standard deviation of the train dataset: ', sd_train)\n",
        "print('Standard deviation of the test dataset: ', sd_test)"
      ]
    },
    {
      "cell_type": "markdown",
      "metadata": {
        "id": "PVBDAFujjiWj"
      },
      "source": [
        "Standard deviation of the train dataset:  581.4288141963353\n",
        "\n",
        "Standard deviation of the test dataset:  1035.874263355892"
      ]
    },
    {
      "cell_type": "markdown",
      "metadata": {
        "id": "1hsVk1uxIrc4"
      },
      "source": [
        "Normalization"
      ]
    },
    {
      "cell_type": "code",
      "execution_count": null,
      "metadata": {
        "colab": {
          "base_uri": "https://localhost:8080/"
        },
        "id": "sM8TfuN3Io2E",
        "outputId": "9573b17f-470a-4289-9e1b-acc58e29c1ca"
      },
      "outputs": [
        {
          "output_type": "stream",
          "name": "stdout",
          "text": [
            "Standard deviation after normalization of the train dataset:  0.3526138592182334\n",
            "Standard deviation after normalization of the test dataset:  0.3521153658576748\n"
          ]
        }
      ],
      "source": [
        "# Normalization\n",
        "X_train_norm = preprocessing.MinMaxScaler().fit_transform(X_train)\n",
        "X_test_norm = preprocessing.MinMaxScaler().fit_transform(X_test)\n",
        "sd_nor_train=np.nanstd(X_train_norm)\n",
        "sd_nor_test=np.nanstd(X_test_norm )\n",
        "print('Standard deviation after normalization of the train dataset: ', sd_nor_train)\n",
        "print('Standard deviation after normalization of the test dataset: ', sd_nor_test)"
      ]
    },
    {
      "cell_type": "markdown",
      "metadata": {
        "id": "abUIPm5_je6R"
      },
      "source": [
        "Standard deviation after normalization of the train dataset:  0.3526138592182334\n",
        "\n",
        "Standard deviation after normalization of the test dataset:  0.3521153658576748"
      ]
    },
    {
      "cell_type": "markdown",
      "metadata": {
        "id": "M3hHGoY8IpwJ"
      },
      "source": [
        "Standardization"
      ]
    },
    {
      "cell_type": "code",
      "execution_count": null,
      "metadata": {
        "colab": {
          "base_uri": "https://localhost:8080/"
        },
        "id": "N9iZ5PTNIpKh",
        "outputId": "b41aa6a6-8205-4aae-ec12-4734d7207e8e"
      },
      "outputs": [
        {
          "output_type": "stream",
          "name": "stdout",
          "text": [
            "Standard deviation after standardization of the train dataset: 1.0\n",
            "Standard deviation after standardization of the test dataset: 0.9993628543475495\n"
          ]
        }
      ],
      "source": [
        "# Standardization\n",
        "X_train_std =StandardScaler().fit_transform(X_train)\n",
        "X_test_std =StandardScaler().fit_transform(X_test)\n",
        "sdt_sta_train=np.nanstd(X_train_std )\n",
        "sdt_sta_test=np.nanstd(X_test_std)\n",
        "print('Standard deviation after standardization of the train dataset:', sdt_sta_train)\n",
        "print('Standard deviation after standardization of the test dataset:', sdt_sta_test)"
      ]
    },
    {
      "cell_type": "markdown",
      "metadata": {
        "id": "-CsZNIoLjdIh"
      },
      "source": [
        "Standard deviation after standardization of the train dataset: 1.0\n",
        "\n",
        "Standard deviation after standardization of the test dataset: 0.9993628543475495"
      ]
    },
    {
      "cell_type": "markdown",
      "metadata": {
        "id": "r3QGVLfHJfT1"
      },
      "source": [
        "PCA (Principal Component Analysis)"
      ]
    },
    {
      "cell_type": "code",
      "execution_count": null,
      "metadata": {
        "colab": {
          "base_uri": "https://localhost:8080/"
        },
        "id": "pOgTjYWPJYbL",
        "outputId": "fa942df3-4180-49f9-9dae-d0f00f32776d"
      },
      "outputs": [
        {
          "output_type": "stream",
          "name": "stdout",
          "text": [
            "pca train data shape: (28000, 255)\n",
            "pca test data shape: (2000, 255)\n",
            "Standard devication:  1.7103428860642826\n"
          ]
        }
      ],
      "source": [
        "#fit by PCA method\n",
        "pca = PCA(n_components=0.95).fit(X_train_std)\n",
        "X_train_pca =pca.transform(X_train_std)\n",
        "X_test_pca =pca.transform(X_test_std)\n",
        "\n",
        "print(\"pca train data shape: {}\".format(str(X_train_pca.shape)))\n",
        "print(\"pca test data shape: {}\".format(str(X_test_pca.shape)))\n",
        "\n",
        "#check standard devication\n",
        "sd_pca=np.nanstd(X_train_pca)\n",
        "print('Standard devication: ', sd_pca)"
      ]
    },
    {
      "cell_type": "markdown",
      "metadata": {
        "id": "YXeIHy-Kja1a"
      },
      "source": [
        "pca train data shape: (28000, 255)\n",
        "\n",
        "pca test data shape: (2000, 255)\n",
        "\n",
        "Standard devication:  1.7103428860642826"
      ]
    },
    {
      "cell_type": "markdown",
      "metadata": {
        "id": "OMVosclkJp7_"
      },
      "source": [
        "Plot PCA"
      ]
    },
    {
      "cell_type": "code",
      "execution_count": null,
      "metadata": {
        "colab": {
          "base_uri": "https://localhost:8080/",
          "height": 295
        },
        "id": "SL0zVkmgJj3J",
        "outputId": "e2809d51-5a2f-4db2-f656-ae86ecd800de"
      },
      "outputs": [
        {
          "output_type": "display_data",
          "data": {
            "text/plain": [
              "<Figure size 432x288 with 1 Axes>"
            ],
            "image/png": "[encoded data removed]"
          },
          "metadata": {
            "needs_background": "light"
          }
        }
      ],
      "source": [
        "#Explained variance ratio\n",
        "#plot the chart\n",
        "var=np.cumsum(np.round(pca.explained_variance_ratio_, decimals=3))\n",
        "#print(var)\n",
        "plt.ylabel('% Variance Explained')\n",
        "plt.xlabel('Number of Features')\n",
        "plt.title('PCA Analysis')\n",
        "plt.plot(var)\n",
        "plt.show()"
      ]
    },
    {
      "cell_type": "markdown",
      "metadata": {
        "id": "E95IccBsKDVW"
      },
      "source": [
        "# Implementation algorithms"
      ]
    },
    {
      "cell_type": "markdown",
      "metadata": {
        "id": "oL_n9Kh1MtBb"
      },
      "source": [
        "## Navie Bayes"
      ]
    },
    {
      "cell_type": "markdown",
      "metadata": {
        "id": "VuLcQCaDNOls"
      },
      "source": [
        "### Navie Bayes with orignal data"
      ]
    },
    {
      "cell_type": "code",
      "execution_count": null,
      "metadata": {
        "colab": {
          "base_uri": "https://localhost:8080/"
        },
        "id": "W_0-Qiiah5y8",
        "outputId": "b7b56f6d-884a-420c-8658-63c28c45e05d"
      },
      "outputs": [
        {
          "name": "stdout",
          "output_type": "stream",
          "text": [
            "Testing accuracy: 0.608\n",
            "CPU times: user 524 ms, sys: 23 ms, total: 547 ms\n",
            "Wall time: 573 ms\n"
          ]
        }
      ],
      "source": [
        "%%time\n",
        "navie_test = GaussianNB() \n",
        "navie_test.fit(X_train,y_train) \n",
        "y_pred_navie = navie_test.predict(X_test)\n",
        "print(\"Testing accuracy: \"+ str(accuracy_score(y_test, y_pred_navie)))"
      ]
    },
    {
      "cell_type": "markdown",
      "metadata": {
        "id": "_p9D5AS7jWuL"
      },
      "source": [
        "Testing accuracy: 0.608\n",
        "CPU times: user 524 ms, sys: 23 ms, total: 547 ms\n",
        "Wall time: 573 ms"
      ]
    },
    {
      "cell_type": "markdown",
      "metadata": {
        "id": "cMJ_Ry-XPXYW"
      },
      "source": [
        "### Navie Bayes with Normalization data"
      ]
    },
    {
      "cell_type": "code",
      "execution_count": null,
      "metadata": {
        "colab": {
          "base_uri": "https://localhost:8080/"
        },
        "id": "Ij1uKVEQjTX3",
        "outputId": "7907051d-f9bd-4c27-8191-5b6427f14025"
      },
      "outputs": [
        {
          "name": "stdout",
          "output_type": "stream",
          "text": [
            "Testing accuracy: 0.5835\n",
            "CPU times: user 336 ms, sys: 21 ms, total: 357 ms\n",
            "Wall time: 356 ms\n"
          ]
        }
      ],
      "source": [
        "%%time\n",
        "navie_test = GaussianNB() \n",
        "navie_test.fit(X_train_norm,y_train) \n",
        "y_pred_navie = navie_test.predict(X_test_norm)\n",
        "print(\"Testing accuracy: \"+ str(accuracy_score(y_test, y_pred_navie)))"
      ]
    },
    {
      "cell_type": "markdown",
      "metadata": {
        "id": "WPMhMUsKkatY"
      },
      "source": [
        "Testing accuracy: 0.5835\n",
        "CPU times: user 440 ms, sys: 21.2 ms, total: 461 ms\n",
        "Wall time: 482 ms"
      ]
    },
    {
      "cell_type": "markdown",
      "metadata": {
        "id": "MmWgxBHOPXh9"
      },
      "source": [
        "### Navie Bayes with Standardization data"
      ]
    },
    {
      "cell_type": "code",
      "execution_count": null,
      "metadata": {
        "colab": {
          "base_uri": "https://localhost:8080/"
        },
        "id": "t_SV3JHikSqe",
        "outputId": "260f7cc5-69b8-44fb-bcac-5be9865f04b4"
      },
      "outputs": [
        {
          "name": "stdout",
          "output_type": "stream",
          "text": [
            "Testing accuracy: 0.25\n",
            "CPU times: user 330 ms, sys: 22.1 ms, total: 352 ms\n",
            "Wall time: 356 ms\n"
          ]
        }
      ],
      "source": [
        "%%time\n",
        "navie_test = GaussianNB() \n",
        "navie_test.fit(X_train_std,y_train) \n",
        "y_pred_navie = navie_test.predict(X_test_std)\n",
        "print(\"Testing accuracy: \"+ str(accuracy_score(y_test, y_pred_navie)))"
      ]
    },
    {
      "cell_type": "markdown",
      "metadata": {
        "id": "LpIASk5TkbaW"
      },
      "source": [
        "Testing accuracy: 0.25\n",
        "CPU times: user 431 ms, sys: 23.1 ms, total: 454 ms\n",
        "Wall time: 482 ms"
      ]
    },
    {
      "cell_type": "markdown",
      "metadata": {
        "id": "7Ks7jKnkPXs4"
      },
      "source": [
        "### Navie Bayes with PCA data"
      ]
    },
    {
      "cell_type": "code",
      "execution_count": null,
      "metadata": {
        "colab": {
          "base_uri": "https://localhost:8080/"
        },
        "id": "vAZuCkeMlESs",
        "outputId": "c0be39d9-95ea-4b76-f87e-3c1991cb537a"
      },
      "outputs": [
        {
          "name": "stdout",
          "output_type": "stream",
          "text": [
            "Testing accuracy: 0.579\n",
            "CPU times: user 76.8 ms, sys: 10.9 ms, total: 87.7 ms\n",
            "Wall time: 88.2 ms\n"
          ]
        }
      ],
      "source": [
        "%%time\n",
        "navie_test = GaussianNB() \n",
        "navie_test.fit(X_train_pca,y_train) \n",
        "y_pred_navie = navie_test.predict(X_test_pca)\n",
        "print(\"Testing accuracy: \"+ str(accuracy_score(y_test, y_pred_navie)))"
      ]
    },
    {
      "cell_type": "markdown",
      "metadata": {
        "id": "QMBEpOCqlK7y"
      },
      "source": [
        "Testing accuracy: 0.579\n",
        "CPU times: user 76.8 ms, sys: 10.9 ms, total: 87.7 ms\n",
        "Wall time: 88.2 ms"
      ]
    },
    {
      "cell_type": "markdown",
      "metadata": {
        "id": "SnXbILldSMXV"
      },
      "source": [
        "### Best Parameters seaching from GridSearch with Cross-validation"
      ]
    },
    {
      "cell_type": "markdown",
      "metadata": {
        "id": "5Tyu42Calwvr"
      },
      "source": [
        "GridSearch with GaussianNB"
      ]
    },
    {
      "cell_type": "code",
      "execution_count": null,
      "metadata": {
        "colab": {
          "base_uri": "https://localhost:8080/"
        },
        "id": "wvTrqudXlXBW",
        "outputId": "c4589d9e-966d-4b3f-cfa8-d499efd877f2"
      },
      "outputs": [
        {
          "name": "stdout",
          "output_type": "stream",
          "text": [
            "Fitting 5 folds for each of 100 candidates, totalling 500 fits\n",
            "Train set score: 0.67\n",
            "Test set score: 0.67\n",
            "Best parameters: {'var_smoothing': 1.873817422860383e-05}\n",
            "CPU times: user 4.47 s, sys: 400 ms, total: 4.87 s\n",
            "Wall time: 2min 56s\n"
          ]
        }
      ],
      "source": [
        "%%time\n",
        "tune = {\n",
        "'var_smoothing': np.logspace(0,-9, num=100)\n",
        "}\n",
        "GaNB = GridSearchCV(estimator=GaussianNB(), param_grid=tune, verbose=2, cv=5, n_jobs=-1) \n",
        "GaNB.fit(X_train, y_train)\n",
        "print(\"Train set score: {:.2f}\".format(GaNB.score(X_train, y_train))) \n",
        "print(\"Test set score: {:.2f}\".format(GaNB.score(X_test, y_test))) \n",
        "print(\"Best parameters: {}\".format(GaNB.best_params_))"
      ]
    },
    {
      "cell_type": "markdown",
      "metadata": {
        "id": "1mW58x5qnZmt"
      },
      "source": [
        "Fitting 5 folds for each of 100 candidates, totalling 500 fits\n",
        "\n",
        "Train set score: 0.67\n",
        "\n",
        "Test set score: 0.67\n",
        "\n",
        "Best parameters: {'var_smoothing': 1.873817422860383e-05}\n",
        "\n",
        "CPU times: user 4.47 s, sys: 400 ms, total: 4.87 s\n",
        "\n",
        "Wall time: 2min 56s"
      ]
    },
    {
      "cell_type": "markdown",
      "metadata": {
        "id": "n4uS_gkOmDDP"
      },
      "source": [
        "GridSearch with BernoulliNB"
      ]
    },
    {
      "cell_type": "code",
      "execution_count": null,
      "metadata": {
        "colab": {
          "base_uri": "https://localhost:8080/"
        },
        "id": "22ZzRqOdlXKY",
        "outputId": "9cb68308-5aaa-48a1-e5fb-e1e4f2b2cf6c"
      },
      "outputs": [
        {
          "name": "stdout",
          "output_type": "stream",
          "text": [
            "Fitting 5 folds for each of 5 candidates, totalling 25 fits\n",
            "Train Accuracy : 0.717\n",
            "Test Accuracy : 0.691\n",
            "Best Parameters :  {'alpha': 0.01}\n",
            "CPU times: user 1.27 s, sys: 149 ms, total: 1.42 s\n",
            "Wall time: 10.9 s\n"
          ]
        }
      ],
      "source": [
        "%%time\n",
        "tune = {'alpha': [0.01, 0.1, 0.5, 1.0, 10.0],\n",
        "         }\n",
        "\n",
        "beNB = GridSearchCV(BernoulliNB(), param_grid=tune, n_jobs=-1, cv=5, verbose=5)\n",
        "beNB.fit(X_train,y_train)\n",
        "\n",
        "print('Train Accuracy : %.3f'%beNB.best_estimator_.score(X_train, y_train))\n",
        "print('Test Accuracy : %.3f'%beNB.best_estimator_.score(X_test, y_test))\n",
        "print('Best Parameters : ',beNB.best_params_)"
      ]
    },
    {
      "cell_type": "markdown",
      "metadata": {
        "id": "ZFm8UcATna2g"
      },
      "source": [
        "Fitting 5 folds for each of 5 candidates, totalling 25 fits\n",
        "\n",
        "Train Accuracy : 0.717\n",
        "\n",
        "Test Accuracy : 0.691\n",
        "\n",
        "Best Parameters :  {'alpha': 0.01}\n",
        "\n",
        "CPU times: user 1.27 s, sys: 149 ms, total: 1.42 s\n",
        "\n",
        "Wall time: 10.9 s"
      ]
    },
    {
      "cell_type": "markdown",
      "metadata": {
        "id": "rbGVsJaimPWp"
      },
      "source": [
        "GridSearch with MultinomialNB"
      ]
    },
    {
      "cell_type": "code",
      "execution_count": null,
      "metadata": {
        "colab": {
          "base_uri": "https://localhost:8080/"
        },
        "id": "Eyx2ggtglXVk",
        "outputId": "a1170050-004f-4549-e47a-d0b4db49772c"
      },
      "outputs": [
        {
          "name": "stdout",
          "output_type": "stream",
          "text": [
            "Fitting 5 folds for each of 5 candidates, totalling 25 fits\n",
            "Train Accuracy : 0.680\n",
            "Test Accuracy : 0.653\n",
            "Best Parameters :  {'alpha': 0.01}\n",
            "CPU times: user 748 ms, sys: 226 ms, total: 974 ms\n",
            "Wall time: 7.63 s\n"
          ]
        }
      ],
      "source": [
        "%%time\n",
        "tune = {'alpha': [0.01, 0.1, 0.5, 1.0, 10.0],\n",
        "         }\n",
        "\n",
        "muNB = GridSearchCV(MultinomialNB(), param_grid=tune, n_jobs=-1, cv=5, verbose=5)\n",
        "muNB.fit(X_train,y_train)\n",
        "\n",
        "print('Train Accuracy : %.3f'%muNB.best_estimator_.score(X_train, y_train))\n",
        "print('Test Accuracy : %.3f'%muNB.best_estimator_.score(X_test, y_test))\n",
        "print('Best Parameters : ',muNB.best_params_)"
      ]
    },
    {
      "cell_type": "markdown",
      "metadata": {
        "id": "UfB8YZz2ncOC"
      },
      "source": [
        "Fitting 5 folds for each of 5 candidates, totalling 25 fits\n",
        "\n",
        "Train Accuracy : 0.680\n",
        "\n",
        "Test Accuracy : 0.653\n",
        "\n",
        "Best Parameters :  {'alpha': 0.01}\n",
        "\n",
        "CPU times: user 748 ms, sys: 226 ms, total: 974 ms\n",
        "\n",
        "Wall time: 7.63 s"
      ]
    },
    {
      "cell_type": "markdown",
      "metadata": {
        "id": "wQILxADqmU9J"
      },
      "source": [
        "GridSearch with ComplementNB "
      ]
    },
    {
      "cell_type": "code",
      "execution_count": null,
      "metadata": {
        "colab": {
          "base_uri": "https://localhost:8080/"
        },
        "id": "2uadLGGplXeM",
        "outputId": "460be761-45db-47d5-b724-8d7e0a9131e3"
      },
      "outputs": [
        {
          "name": "stdout",
          "output_type": "stream",
          "text": [
            "Fitting 5 folds for each of 5 candidates, totalling 25 fits\n",
            "Train Accuracy : 0.609\n",
            "Test Accuracy : 0.551\n",
            "Best Parameters :  {'alpha': 0.01}\n",
            "CPU times: user 749 ms, sys: 197 ms, total: 946 ms\n",
            "Wall time: 7.65 s\n"
          ]
        }
      ],
      "source": [
        "%%time\n",
        "tune = {'alpha': [0.01, 0.1, 0.5, 1.0, 10.0, ],\n",
        "         }\n",
        "\n",
        "coNB = GridSearchCV(ComplementNB(), param_grid=tune, n_jobs=-1, cv=5, verbose=5)\n",
        "coNB.fit(X_train,y_train)\n",
        "\n",
        "print('Train Accuracy : %.3f'%coNB.best_estimator_.score(X_train, y_train))\n",
        "print('Test Accuracy : %.3f'%coNB.best_estimator_.score(X_test, y_test))\n",
        "print('Best Parameters : ',coNB.best_params_)"
      ]
    },
    {
      "cell_type": "markdown",
      "metadata": {
        "id": "PArhZh5Xnbkz"
      },
      "source": [
        "Fitting 5 folds for each of 5 candidates, totalling 25 fits\n",
        "\n",
        "Train Accuracy : 0.609\n",
        "\n",
        "Test Accuracy : 0.551\n",
        "\n",
        "Best Parameters :  {'alpha': 0.01}\n",
        "\n",
        "CPU times: user 749 ms, sys: 197 ms, total: 946 ms\n",
        "\n",
        "Wall time: 7.65 s"
      ]
    },
    {
      "cell_type": "markdown",
      "metadata": {
        "id": "VtkefH0NRjy4"
      },
      "source": [
        "### Best Parameters"
      ]
    },
    {
      "cell_type": "code",
      "execution_count": null,
      "metadata": {
        "colab": {
          "base_uri": "https://localhost:8080/"
        },
        "id": "o2_w6ASvlXoh",
        "outputId": "664fb1e6-9301-4c46-be47-1ff2c112368b"
      },
      "outputs": [
        {
          "name": "stdout",
          "output_type": "stream",
          "text": [
            "Testing accuracy: 0.691\n",
            "CPU times: user 845 ms, sys: 0 ns, total: 845 ms\n",
            "Wall time: 864 ms\n"
          ]
        }
      ],
      "source": [
        "%%time\n",
        "navie_test = BernoulliNB(alpha= 0.01) \n",
        "navie_test.fit(X_train,y_train) \n",
        "y_pred_navie = navie_test.predict(X_test)\n",
        "print(\"Testing accuracy: \"+ str(accuracy_score(y_test, y_pred_navie)))"
      ]
    },
    {
      "cell_type": "markdown",
      "metadata": {
        "id": "AgqyvAXEpPQ0"
      },
      "source": [
        "Testing accuracy: 0.691\n",
        "\n",
        "CPU times: user 845 ms, sys: 0 ns, total: 845 ms\n",
        "\n",
        "Wall time: 864 ms"
      ]
    },
    {
      "cell_type": "markdown",
      "metadata": {
        "id": "j3peBFCLMtIv"
      },
      "source": [
        "## KNN\n"
      ]
    },
    {
      "cell_type": "markdown",
      "metadata": {
        "id": "hacfUavlNPQG"
      },
      "source": [
        "### KNN with orignal data"
      ]
    },
    {
      "cell_type": "code",
      "execution_count": null,
      "metadata": {
        "colab": {
          "base_uri": "https://localhost:8080/"
        },
        "id": "dRI2bvK9xF3H",
        "outputId": "99045db6-73af-46b4-b25f-0bc32e67266b"
      },
      "outputs": [
        {
          "name": "stdout",
          "output_type": "stream",
          "text": [
            "n = 5\n",
            "Test accuracy: 0.721\n",
            "===================================\n",
            "n = 6\n",
            "Test accuracy: 0.7315\n",
            "===================================\n",
            "n = 7\n",
            "Test accuracy: 0.726\n",
            "===================================\n",
            "n = 8\n",
            "Test accuracy: 0.734\n",
            "===================================\n",
            "n = 9\n",
            "Test accuracy: 0.729\n",
            "===================================\n",
            "Best Accuracy for original data 0.734\n",
            "AVG ACC 0.7283000000000001\n",
            "CPU times: user 26.4 s, sys: 624 ms, total: 27 s\n",
            "Wall time: 16.8 s\n"
          ]
        }
      ],
      "source": [
        "%%time\n",
        "baseNN = []\n",
        "for i in range(10):\n",
        "  \n",
        "  if i <= 4:\n",
        "    i+=1\n",
        "     \n",
        "  else:\n",
        "      print(\"n = \" + str(i))\n",
        "      knn = KNeighborsClassifier(n_neighbors=i)\n",
        "      knn.fit(X_train, y_train)\n",
        "      y_pred = knn.predict(X_test)\n",
        "      result = metrics.accuracy_score(y_test, y_pred)\n",
        "      print(\"Test accuracy: \"+ str(result))\n",
        "      print(\"===================================\")\n",
        "      baseNN.append(result)\n",
        "\n",
        "most_acc = max(baseNN)\n",
        "print(\"Best Accuracy for original data \"+ str(most_acc))\n",
        "\n",
        "avg_acc = sum(baseNN) / len(baseNN)\n",
        "print(\"AVG ACC \"+ str(avg_acc))"
      ]
    },
    {
      "cell_type": "markdown",
      "metadata": {
        "id": "Q0ghtpvL0Di1"
      },
      "source": [
        "n = 5\n",
        "Test accuracy: 0.721\n",
        "\n",
        "n = 6\n",
        "Test accuracy: 0.7315\n",
        "\n",
        "n = 7\n",
        "Test accuracy: 0.726\n",
        "\n",
        "n = 8\n",
        "Test accuracy: 0.734\n",
        "\n",
        "n = 9\n",
        "Test accuracy: 0.729\n",
        "\n",
        "Best Accuracy for original data 0.734\n",
        "\n",
        "AVG ACC 0.7283000000000001\n",
        "\n",
        "CPU times: user 26.4 s, sys: 624 ms, total: 27 s\n",
        "\n",
        "Wall time: 16.8 s"
      ]
    },
    {
      "cell_type": "markdown",
      "metadata": {
        "id": "XbTBXn5EQbhX"
      },
      "source": [
        "### KNN with Normalization data"
      ]
    },
    {
      "cell_type": "code",
      "execution_count": null,
      "metadata": {
        "colab": {
          "base_uri": "https://localhost:8080/"
        },
        "id": "iVQgppd4ytM2",
        "outputId": "4fdc0823-117c-4e3d-83f2-dd76b684728e"
      },
      "outputs": [
        {
          "name": "stdout",
          "output_type": "stream",
          "text": [
            "n = 5\n",
            "Test accuracy: 0.8475\n",
            "===================================\n",
            "n = 6\n",
            "Test accuracy: 0.8455\n",
            "===================================\n",
            "n = 7\n",
            "Test accuracy: 0.8425\n",
            "===================================\n",
            "n = 8\n",
            "Test accuracy: 0.8405\n",
            "===================================\n",
            "n = 9\n",
            "Test accuracy: 0.8405\n",
            "===================================\n",
            "Best Accuracy for normalized data 0.8475\n",
            "AVG ACC 0.8432999999999999\n",
            "CPU times: user 23.5 s, sys: 817 ms, total: 24.4 s\n",
            "Wall time: 18.3 s\n"
          ]
        }
      ],
      "source": [
        "%%time\n",
        "ndNN = []\n",
        "for i in range(10):\n",
        "  \n",
        "  if i <= 4:\n",
        "    i+=1\n",
        "     \n",
        "  else:\n",
        "      print(\"n = \" + str(i))\n",
        "      knn = KNeighborsClassifier(n_neighbors=i)\n",
        "      knn.fit(X_train_norm, y_train)\n",
        "      y_pred = knn.predict(X_test_norm)\n",
        "      result = metrics.accuracy_score(y_test, y_pred)\n",
        "      print(\"Test accuracy: \"+ str(result))\n",
        "      print(\"===================================\")\n",
        "      ndNN.append(result)\n",
        "\n",
        "most_acc = max(ndNN)\n",
        "print(\"Best Accuracy for normalized data \"+ str(most_acc))\n",
        "\n",
        "avg_acc = sum(ndNN) / len(ndNN)\n",
        "print(\"AVG ACC \"+ str(avg_acc))"
      ]
    },
    {
      "cell_type": "markdown",
      "metadata": {
        "id": "1jrLMLQx0Vtd"
      },
      "source": [
        "n = 5\n",
        "Test accuracy: 0.8475\n",
        "\n",
        "n = 6\n",
        "Test accuracy: 0.8455\n",
        "\n",
        "n = 7\n",
        "Test accuracy: 0.8425\n",
        "\n",
        "n = 8\n",
        "Test accuracy: 0.8405\n",
        "\n",
        "n = 9\n",
        "Test accuracy: 0.8405\n",
        "\n",
        "Best Accuracy for normalized data 0.8475\n",
        "\n",
        "AVG ACC 0.8432999999999999\n",
        "\n",
        "CPU times: user 23.5 s, sys: 817 ms, total: 24.4 s\n",
        "\n",
        "Wall time: 18.3 s"
      ]
    },
    {
      "cell_type": "markdown",
      "metadata": {
        "id": "nYrw-xamQbtt"
      },
      "source": [
        "### KNN with Standardization data"
      ]
    },
    {
      "cell_type": "code",
      "execution_count": null,
      "metadata": {
        "colab": {
          "base_uri": "https://localhost:8080/"
        },
        "id": "U9P7ObPUy-g8",
        "outputId": "afaf59cd-d1b7-4d38-9dea-56432743ae32"
      },
      "outputs": [
        {
          "name": "stdout",
          "output_type": "stream",
          "text": [
            "n = 5\n",
            "Test accuracy: 0.8405\n",
            "===================================\n",
            "n = 6\n",
            "Test accuracy: 0.8405\n",
            "===================================\n",
            "n = 7\n",
            "Test accuracy: 0.8435\n",
            "===================================\n",
            "n = 8\n",
            "Test accuracy: 0.841\n",
            "===================================\n",
            "n = 9\n",
            "Test accuracy: 0.845\n",
            "===================================\n",
            "Best Accuracy for Standardization data 0.845\n",
            "AVG ACC 0.8421\n",
            "CPU times: user 24 s, sys: 973 ms, total: 25 s\n",
            "Wall time: 15.7 s\n"
          ]
        }
      ],
      "source": [
        "%%time\n",
        "sdNN = []\n",
        "for i in range(10):\n",
        "  \n",
        "  if i <= 4:\n",
        "    i+=1\n",
        "     \n",
        "  else:\n",
        "      print(\"n = \" + str(i))\n",
        "      knn = KNeighborsClassifier(n_neighbors=i)\n",
        "      knn.fit(X_train_std, y_train)\n",
        "      y_pred = knn.predict(X_test_std)\n",
        "      result = metrics.accuracy_score(y_test, y_pred)\n",
        "      print(\"Test accuracy: \"+ str(result))\n",
        "      print(\"===================================\")\n",
        "      sdNN.append(result)\n",
        "\n",
        "most_acc = max(sdNN)\n",
        "print(\"Best Accuracy for Standardization data \"+ str(most_acc))\n",
        "\n",
        "avg_acc = sum(sdNN) / len(sdNN)\n",
        "print(\"AVG ACC \"+ str(avg_acc))"
      ]
    },
    {
      "cell_type": "markdown",
      "metadata": {
        "id": "PCs_xDBZ0eOs"
      },
      "source": [
        "n = 5\n",
        "Test accuracy: 0.8405\n",
        "\n",
        "n = 6\n",
        "Test accuracy: 0.8405\n",
        "\n",
        "n = 7\n",
        "Test accuracy: 0.8435\n",
        "\n",
        "n = 8\n",
        "Test accuracy: 0.841\n",
        "\n",
        "n = 9\n",
        "Test accuracy: 0.845\n",
        "\n",
        "Best Accuracy for Standardization data 0.845\n",
        "\n",
        "AVG ACC 0.8421\n",
        "\n",
        "CPU times: user 24 s, sys: 973 ms, total: 25 s\n",
        "\n",
        "Wall time: 15.7 s"
      ]
    },
    {
      "cell_type": "markdown",
      "metadata": {
        "id": "IcJYKmE0QcC0"
      },
      "source": [
        "### KNN with PCA data"
      ]
    },
    {
      "cell_type": "code",
      "execution_count": null,
      "metadata": {
        "colab": {
          "base_uri": "https://localhost:8080/"
        },
        "id": "1WVkBH-2y8oZ",
        "outputId": "e8a0c96d-db6f-4eae-cd2b-a10144a7eb2c"
      },
      "outputs": [
        {
          "name": "stdout",
          "output_type": "stream",
          "text": [
            "n = 5\n",
            "Test accuracy: 0.8525\n",
            "===================================\n",
            "n = 6\n",
            "Test accuracy: 0.8545\n",
            "===================================\n",
            "n = 7\n",
            "Test accuracy: 0.848\n",
            "===================================\n",
            "n = 8\n",
            "Test accuracy: 0.8545\n",
            "===================================\n",
            "n = 9\n",
            "Test accuracy: 0.8515\n",
            "===================================\n",
            "Best Accuracy for PCA data 0.8545\n",
            "AVG ACC 0.8522000000000001\n",
            "CPU times: user 11.3 s, sys: 613 ms, total: 11.9 s\n",
            "Wall time: 8.18 s\n"
          ]
        }
      ],
      "source": [
        "%%time\n",
        "LRNN = []\n",
        "for i in range(10):\n",
        "  \n",
        "  if i <= 4:\n",
        "    i+=1\n",
        "     \n",
        "  else:\n",
        "      print(\"n = \" + str(i))\n",
        "      knn = KNeighborsClassifier(n_neighbors=i)\n",
        "      knn.fit(X_train_pca, y_train)\n",
        "      y_pred = knn.predict(X_test_pca)\n",
        "      result = metrics.accuracy_score(y_test, y_pred)\n",
        "      print(\"Test accuracy: \"+ str(result))\n",
        "      print(\"===================================\")\n",
        "      LRNN.append(result)\n",
        "\n",
        "most_acc = max(LRNN)\n",
        "print(\"Best Accuracy for PCA data \"+ str(most_acc))\n",
        "\n",
        "avg_acc = sum(LRNN) / len(LRNN)\n",
        "print(\"AVG ACC \"+ str(avg_acc))"
      ]
    },
    {
      "cell_type": "markdown",
      "metadata": {
        "id": "go8jpcZK0ku9"
      },
      "source": [
        "n = 5\n",
        "Test accuracy: 0.8525\n",
        "\n",
        "n = 6\n",
        "Test accuracy: 0.8545\n",
        "\n",
        "n = 7\n",
        "Test accuracy: 0.848\n",
        "\n",
        "n = 8\n",
        "Test accuracy: 0.8545\n",
        "\n",
        "n = 9\n",
        "Test accuracy: 0.8515\n",
        "\n",
        "Best Accuracy for PCA data 0.8545\n",
        "\n",
        "AVG ACC 0.8522000000000001\n",
        "\n",
        "CPU times: user 11.3 s, sys: 613 ms, total: 11.9 s\n",
        "\n",
        "Wall time: 8.18 s"
      ]
    },
    {
      "cell_type": "markdown",
      "metadata": {
        "id": "m-WcV7fQSgH1"
      },
      "source": [
        "### Best Parameters seaching from GridSearch with Cross-validation"
      ]
    },
    {
      "cell_type": "code",
      "execution_count": null,
      "metadata": {
        "colab": {
          "base_uri": "https://localhost:8080/"
        },
        "id": "2CgBRk7r38VQ",
        "outputId": "e514445e-00ef-4207-ecfe-f71d6e25310b"
      },
      "outputs": [
        {
          "name": "stdout",
          "output_type": "stream",
          "text": [
            "Fitting 5 folds for each of 10 candidates, totalling 50 fits\n",
            "Test set score: 0.85\n",
            "Train set score: 0.88\n",
            "Best parameters: {'n_neighbors': 8}\n",
            "Best estimator:\n",
            "KNeighborsClassifier(n_neighbors=8)\n",
            "CPU times: user 36.2 s, sys: 1.78 s, total: 37.9 s\n",
            "Wall time: 10min 3s\n"
          ]
        }
      ],
      "source": [
        "%%time\n",
        "k_range = list(range(5, 15))\n",
        "\n",
        "knn_para = {'n_neighbors': k_range,}\n",
        "\n",
        "knn_result = GridSearchCV(KNeighborsClassifier(algorithm='auto'), knn_para, cv=5, return_train_score=True, verbose =2, n_jobs = -1) \n",
        "\n",
        "knn_result.fit(X_train_pca, y_train)\n",
        "print(\"Test set score: {:.2f}\".format(knn_result .score(X_test_pca, y_test))) \n",
        "print(\"Train set score: {:.2f}\".format(knn_result.score(X_train_pca, y_train))) \n",
        "print(\"Best parameters: {}\".format(knn_result .best_params_))\n",
        "print(\"Best estimator:\\n{}\".format(knn_result .best_estimator_))\n"
      ]
    },
    {
      "cell_type": "markdown",
      "metadata": {
        "id": "uaF0Ls2t-dWn"
      },
      "source": [
        "Fitting 5 folds for each of 10 candidates, totalling 50 fits\n",
        "\n",
        "Test set score: 0.85\n",
        "\n",
        "Train set score: 0.88\n",
        "\n",
        "Best parameters: {'n_neighbors': 8}\n",
        "\n",
        "Best estimator:\n",
        "KNeighborsClassifier(n_neighbors=8)\n",
        "\n",
        "CPU times: user 36.2 s, sys: 1.78 s, total: 37.9 s\n",
        "\n",
        "Wall time: 10min 3s"
      ]
    },
    {
      "cell_type": "markdown",
      "metadata": {
        "id": "LNWbb0MWRfR4"
      },
      "source": [
        "### Best Parameters"
      ]
    },
    {
      "cell_type": "code",
      "execution_count": null,
      "metadata": {
        "colab": {
          "base_uri": "https://localhost:8080/"
        },
        "id": "TURDn2oU_JM_",
        "outputId": "df031e55-239f-4d01-878d-53e77ad25023"
      },
      "outputs": [
        {
          "name": "stdout",
          "output_type": "stream",
          "text": [
            "Test accuracy: 0.8545\n",
            "Train accuracy: 0.8832857142857143\n",
            "CPU times: user 33.6 s, sys: 1.13 s, total: 34.8 s\n",
            "Wall time: 25.3 s\n"
          ]
        }
      ],
      "source": [
        "%%time\n",
        "knn = KNeighborsClassifier(n_neighbors= 8)\n",
        "knn.fit(X_train_pca, y_train)\n",
        "y_pred = knn.predict(X_test_pca)\n",
        "result = accuracy_score(y_test, y_pred)\n",
        "print(\"Test accuracy: \"+str(result))\n",
        "print(\"Train accuracy: \"+str(knn_result.score(X_train_pca, y_train)))"
      ]
    },
    {
      "cell_type": "markdown",
      "source": [
        "Test accuracy: 0.8545\n",
        "\n",
        "Train accuracy: 0.8832857142857143\n",
        "\n",
        "CPU times: user 33.6 s, sys: 1.13 s, total: 34.8 s\n",
        "\n",
        "Wall time: 25.3 s"
      ],
      "metadata": {
        "id": "dfK6r2v1RaCR"
      }
    },
    {
      "cell_type": "markdown",
      "metadata": {
        "id": "gCip5NGHMtM1"
      },
      "source": [
        "## Logistic Regression"
      ]
    },
    {
      "cell_type": "markdown",
      "metadata": {
        "id": "SxdLDsEc6Pr7"
      },
      "source": [
        "### Basic model trainning (Normalization & Standardization & PCA) with Logistic Regression"
      ]
    },
    {
      "cell_type": "code",
      "execution_count": null,
      "metadata": {
        "colab": {
          "base_uri": "https://localhost:8080/"
        },
        "id": "-EqEaChJY8eZ",
        "outputId": "90ca2f1e-1a43-468c-adb5-0f775306ce44"
      },
      "outputs": [
        {
          "name": "stderr",
          "output_type": "stream",
          "text": [
            "/usr/local/lib/python3.7/dist-packages/sklearn/linear_model/_logistic.py:818: ConvergenceWarning: lbfgs failed to converge (status=1):\n",
            "STOP: TOTAL NO. of ITERATIONS REACHED LIMIT.\n",
            "\n",
            "Increase the number of iterations (max_iter) or scale the data as shown in:\n",
            "    https://scikit-learn.org/stable/modules/preprocessing.html\n",
            "Please also refer to the documentation for alternative solver options:\n",
            "    https://scikit-learn.org/stable/modules/linear_model.html#logistic-regression\n",
            "  extra_warning_msg=_LOGISTIC_SOLVER_CONVERGENCE_MSG,\n"
          ]
        },
        {
          "name": "stdout",
          "output_type": "stream",
          "text": [
            "0 Train data Accuracy is : 0.8111785714285714\n",
            "0 Test data Accuracy is : 0.8105\n"
          ]
        },
        {
          "name": "stderr",
          "output_type": "stream",
          "text": [
            "/usr/local/lib/python3.7/dist-packages/sklearn/linear_model/_logistic.py:818: ConvergenceWarning: lbfgs failed to converge (status=1):\n",
            "STOP: TOTAL NO. of ITERATIONS REACHED LIMIT.\n",
            "\n",
            "Increase the number of iterations (max_iter) or scale the data as shown in:\n",
            "    https://scikit-learn.org/stable/modules/preprocessing.html\n",
            "Please also refer to the documentation for alternative solver options:\n",
            "    https://scikit-learn.org/stable/modules/linear_model.html#logistic-regression\n",
            "  extra_warning_msg=_LOGISTIC_SOLVER_CONVERGENCE_MSG,\n"
          ]
        },
        {
          "name": "stdout",
          "output_type": "stream",
          "text": [
            "1 Train data Accuracy is : 0.8919285714285714\n",
            "1 Test data Accuracy is : 0.835\n"
          ]
        },
        {
          "name": "stderr",
          "output_type": "stream",
          "text": [
            "/usr/local/lib/python3.7/dist-packages/sklearn/linear_model/_logistic.py:818: ConvergenceWarning: lbfgs failed to converge (status=1):\n",
            "STOP: TOTAL NO. of ITERATIONS REACHED LIMIT.\n",
            "\n",
            "Increase the number of iterations (max_iter) or scale the data as shown in:\n",
            "    https://scikit-learn.org/stable/modules/preprocessing.html\n",
            "Please also refer to the documentation for alternative solver options:\n",
            "    https://scikit-learn.org/stable/modules/linear_model.html#logistic-regression\n",
            "  extra_warning_msg=_LOGISTIC_SOLVER_CONVERGENCE_MSG,\n"
          ]
        },
        {
          "name": "stdout",
          "output_type": "stream",
          "text": [
            "2 Train data Accuracy is : 0.8705\n",
            "2 Test data Accuracy is : 0.8505\n"
          ]
        },
        {
          "name": "stderr",
          "output_type": "stream",
          "text": [
            "/usr/local/lib/python3.7/dist-packages/sklearn/linear_model/_logistic.py:818: ConvergenceWarning: lbfgs failed to converge (status=1):\n",
            "STOP: TOTAL NO. of ITERATIONS REACHED LIMIT.\n",
            "\n",
            "Increase the number of iterations (max_iter) or scale the data as shown in:\n",
            "    https://scikit-learn.org/stable/modules/preprocessing.html\n",
            "Please also refer to the documentation for alternative solver options:\n",
            "    https://scikit-learn.org/stable/modules/linear_model.html#logistic-regression\n",
            "  extra_warning_msg=_LOGISTIC_SOLVER_CONVERGENCE_MSG,\n"
          ]
        },
        {
          "name": "stdout",
          "output_type": "stream",
          "text": [
            "3 Train data Accuracy is : 0.8695357142857143\n",
            "3 Test data Accuracy is : 0.851\n",
            "CPU times: user 2min 14s, sys: 27.5 s, total: 2min 41s\n",
            "Wall time: 2min 28s\n"
          ]
        }
      ],
      "source": [
        "%%time\n",
        "train_list = [X_train, X_train_std, X_train_norm, X_train_pca]\n",
        "test_list = [X_test, X_test_std, X_test_norm, X_test_pca]\n",
        "\n",
        "model = LogisticRegression(random_state=rs)\n",
        "for i in range(len(train_list)):\n",
        "  # fit it to training data\n",
        "  model.fit(train_list[i], y_train)\n",
        "  # predict using X_test\n",
        "  y_pred = model.predict(test_list[i])\n",
        "  # training and test accuracy\n",
        "  print(i,\"Train data Accuracy is :\", model.score(train_list[i], y_train))\n",
        "  print(i,\"Test data Accuracy is :\", model.score(test_list[i], y_test))"
      ]
    },
    {
      "cell_type": "markdown",
      "metadata": {
        "id": "787ucGbs5-qZ"
      },
      "source": [
        "3 Train data Accuracy is : 0.8695357142857143\n",
        "\n",
        "3 Test data Accuracy is : 0.851\n",
        "\n",
        "CPU times: user 2min 14s, sys: 27.5 \n",
        "\n",
        "Wall time: 2min 28s"
      ]
    },
    {
      "cell_type": "markdown",
      "metadata": {
        "id": "wgHRyLjT6YCD"
      },
      "source": [
        "### Best Parameters seaching from GridSearch with Cross-validation"
      ]
    },
    {
      "cell_type": "code",
      "execution_count": null,
      "metadata": {
        "colab": {
          "base_uri": "https://localhost:8080/"
        },
        "id": "UoY_a1cPY8q6",
        "outputId": "a3b02289-e505-48c1-eaae-15b89eaf3330"
      },
      "outputs": [
        {
          "name": "stderr",
          "output_type": "stream",
          "text": [
            "/usr/local/lib/python3.7/dist-packages/sklearn/model_selection/_validation.py:372: FitFailedWarning: \n",
            "30 fits failed out of a total of 60.\n",
            "The score on these train-test partitions for these parameters will be set to nan.\n",
            "If these failures are not expected, you can try to debug them by setting error_score='raise'.\n",
            "\n",
            "Below are more details about the failures:\n",
            "--------------------------------------------------------------------------------\n",
            "30 fits failed with the following error:\n",
            "Traceback (most recent call last):\n",
            "  File \"/usr/local/lib/python3.7/dist-packages/sklearn/model_selection/_validation.py\", line 680, in _fit_and_score\n",
            "    estimator.fit(X_train, y_train, **fit_params)\n",
            "  File \"/usr/local/lib/python3.7/dist-packages/sklearn/linear_model/_logistic.py\", line 1461, in fit\n",
            "    solver = _check_solver(self.solver, self.penalty, self.dual)\n",
            "  File \"/usr/local/lib/python3.7/dist-packages/sklearn/linear_model/_logistic.py\", line 449, in _check_solver\n",
            "    % (solver, penalty)\n",
            "ValueError: Solver lbfgs supports only 'l2' or 'none' penalties, got l1 penalty.\n",
            "\n",
            "  warnings.warn(some_fits_failed_message, FitFailedWarning)\n",
            "/usr/local/lib/python3.7/dist-packages/sklearn/model_selection/_search.py:972: UserWarning: One or more of the test scores are non-finite: [       nan 0.84946429        nan 0.84764286        nan 0.84664286]\n",
            "  category=UserWarning,\n",
            "/usr/local/lib/python3.7/dist-packages/sklearn/model_selection/_search.py:972: UserWarning: One or more of the train scores are non-finite: [       nan 0.86555159        nan 0.87034524        nan 0.87094841]\n",
            "  category=UserWarning,\n"
          ]
        },
        {
          "name": "stdout",
          "output_type": "stream",
          "text": [
            "Train accuracy from best hyperparmater: 0.8652142857142857\n",
            "Test accuracy from best hyperparmater: 0.8535\n",
            "              precision    recall  f1-score   support\n",
            "\n",
            "           0       0.80      0.84      0.82       208\n",
            "           1       0.98      0.96      0.97       194\n",
            "           2       0.75      0.76      0.75       189\n",
            "           3       0.83      0.87      0.85       196\n",
            "           4       0.74      0.78      0.76       189\n",
            "           5       0.96      0.90      0.93       205\n",
            "           6       0.70      0.61      0.65       219\n",
            "           7       0.91      0.94      0.92       199\n",
            "           8       0.94      0.95      0.95       219\n",
            "           9       0.91      0.95      0.93       182\n",
            "\n",
            "    accuracy                           0.85      2000\n",
            "   macro avg       0.85      0.86      0.85      2000\n",
            "weighted avg       0.85      0.85      0.85      2000\n",
            "\n",
            "CPU times: user 16.2 s, sys: 3.87 s, total: 20 s\n",
            "Wall time: 3min 20s\n"
          ]
        },
        {
          "name": "stderr",
          "output_type": "stream",
          "text": [
            "/usr/local/lib/python3.7/dist-packages/sklearn/linear_model/_logistic.py:818: ConvergenceWarning: lbfgs failed to converge (status=1):\n",
            "STOP: TOTAL NO. of ITERATIONS REACHED LIMIT.\n",
            "\n",
            "Increase the number of iterations (max_iter) or scale the data as shown in:\n",
            "    https://scikit-learn.org/stable/modules/preprocessing.html\n",
            "Please also refer to the documentation for alternative solver options:\n",
            "    https://scikit-learn.org/stable/modules/linear_model.html#logistic-regression\n",
            "  extra_warning_msg=_LOGISTIC_SOLVER_CONVERGENCE_MSG,\n"
          ]
        }
      ],
      "source": [
        "%%time\n",
        "#using pca data\n",
        "params_lr = {'C': [0.01, 0.1, 1 ],\n",
        "             'penalty': ['l1','l2']}\n",
        "cv_lr = GridSearchCV(param_grid=params_lr, estimator=LogisticRegression(random_state=rs),\n",
        "                  return_train_score=True, cv=10, n_jobs=-1)\n",
        "# use Standardization data\n",
        "cv_lr.fit(X_train_pca, y_train)\n",
        "\n",
        "print(\"Train accuracy from best hyperparmater:\", cv_lr.score(X_train_pca, y_train))\n",
        "print(\"Test accuracy from best hyperparmater:\", cv_lr.score(X_test_pca, y_test))\n",
        "y_pred_lr_grid = cv_lr.predict(X_test_pca)\n",
        "print(classification_report(y_test, y_pred_lr_grid))\n",
        "cv_lr.get_params()"
      ]
    },
    {
      "cell_type": "markdown",
      "metadata": {
        "id": "7IY2aZSL5hNE"
      },
      "source": [
        "Train accuracy from best hyperparmater: 0.8652142857142857\n",
        "Test accuracy from best hyperparmater: 0.8535\n",
        "              precision    recall  f1-score   support\n",
        "\n",
        "           0       0.80      0.84      0.82       208\n",
        "           1       0.98      0.96      0.97       194\n",
        "           2       0.75      0.76      0.75       189\n",
        "           3       0.83      0.87      0.85       196\n",
        "           4       0.74      0.78      0.76       189\n",
        "           5       0.96      0.90      0.93       205\n",
        "           6       0.70      0.61      0.65       219\n",
        "           7       0.91      0.94      0.92       199\n",
        "           8       0.94      0.95      0.95       219\n",
        "           9       0.91      0.95      0.93       182\n",
        "\n",
        "    accuracy                           0.85      2000\n",
        "   macro avg       0.85      0.86      0.85      2000\n",
        "weighted avg       0.85      0.85      0.85      2000\n",
        "\n",
        "CPU times: user 16.2 s, sys: 3.87 s, total: 20 s\n",
        "Wall time: 3min 20s"
      ]
    },
    {
      "cell_type": "code",
      "execution_count": null,
      "metadata": {
        "colab": {
          "base_uri": "https://localhost:8080/"
        },
        "id": "0JwzEwyeY8xz",
        "outputId": "6c46ae28-b144-4096-ab8d-0a3316b4fb88"
      },
      "outputs": [
        {
          "name": "stdout",
          "output_type": "stream",
          "text": [
            "Best parameter of logistic regression is  {'C': 0.01, 'penalty': 'l2'}\n",
            "Best pefromance preprocessing method is Standardixation\n",
            "CPU times: user 2.24 ms, sys: 4.14 ms, total: 6.38 ms\n",
            "Wall time: 7.22 ms\n"
          ]
        }
      ],
      "source": [
        "%%time\n",
        "result_set = cv_lr.cv_results_\n",
        "print(\"Best parameter of logistic regression is \",cv_lr.best_params_)\n",
        "print(\"Best pefromance preprocessing method is Standardixation\")"
      ]
    },
    {
      "cell_type": "markdown",
      "metadata": {
        "id": "A1l7xNqt5Wv1"
      },
      "source": [
        "Best parameter of logistic \n",
        "regression is  {'C': 0.01, 'penalty': 'l2'}\n",
        "\n",
        "Best pefromance preprocessing method is Standardixation\n",
        "\n",
        "CPU times: user 2.24 ms, sys: 4.14 \n",
        "ms, total: 6.38 ms\n",
        "\n",
        "Wall time: 7.22 ms"
      ]
    },
    {
      "cell_type": "markdown",
      "metadata": {
        "id": "I0OLgix3RnB6"
      },
      "source": [
        "### Best Parameters"
      ]
    },
    {
      "cell_type": "code",
      "execution_count": null,
      "metadata": {
        "colab": {
          "base_uri": "https://localhost:8080/"
        },
        "id": "opQgOWk6ZK_i",
        "outputId": "864ff18d-85b0-408f-ec74-050abd158ee8"
      },
      "outputs": [
        {
          "name": "stdout",
          "output_type": "stream",
          "text": [
            "Train data Accuracy is : 0.8652142857142857\n",
            "CPU times: user 12.5 s, sys: 4.55 s, total: 17 s\n",
            "Wall time: 17.7 s\n"
          ]
        },
        {
          "name": "stderr",
          "output_type": "stream",
          "text": [
            "/usr/local/lib/python3.7/dist-packages/sklearn/linear_model/_logistic.py:818: ConvergenceWarning: lbfgs failed to converge (status=1):\n",
            "STOP: TOTAL NO. of ITERATIONS REACHED LIMIT.\n",
            "\n",
            "Increase the number of iterations (max_iter) or scale the data as shown in:\n",
            "    https://scikit-learn.org/stable/modules/preprocessing.html\n",
            "Please also refer to the documentation for alternative solver options:\n",
            "    https://scikit-learn.org/stable/modules/linear_model.html#logistic-regression\n",
            "  extra_warning_msg=_LOGISTIC_SOLVER_CONVERGENCE_MSG,\n"
          ]
        }
      ],
      "source": [
        "%%time\n",
        "model = LogisticRegression(penalty='l2',C=0.01,random_state=42 )\n",
        "model.fit(X_train_pca, y_train)\n",
        "y_pred = model.predict(X_test_pca)\n",
        "print(\"Train data Accuracy is :\", model.score(X_train_pca, y_train))\n"
      ]
    },
    {
      "cell_type": "markdown",
      "metadata": {
        "id": "JSYM3Skk6c98"
      },
      "source": [
        "Train data Accuracy is : 0.8652142857142857\n",
        "\n",
        "\n",
        "CPU times: user 12.5 s, sys: 4.55 s, total: 17 s\n",
        "\n",
        "Wall time: 17.7 s"
      ]
    },
    {
      "cell_type": "markdown",
      "metadata": {
        "id": "Ay4ZjgFGMtS8"
      },
      "source": [
        "## Decision Tree"
      ]
    },
    {
      "cell_type": "markdown",
      "source": [
        "### Basic model trainning (Original & Normalization & Standardization & PCA) with Decission tree"
      ],
      "metadata": {
        "id": "Cx26aJlFUeQs"
      }
    },
    {
      "cell_type": "code",
      "execution_count": null,
      "metadata": {
        "colab": {
          "base_uri": "https://localhost:8080/"
        },
        "id": "ugvaR7BrYclA",
        "outputId": "a7e4bde0-a082-4594-e2a7-03b106038125"
      },
      "outputs": [
        {
          "name": "stdout",
          "output_type": "stream",
          "text": [
            "1 Train data Accuracy is : 1.0\n",
            "1 Test data Accuracy is : 0.7825\n",
            "2 Train data Accuracy is : 1.0\n",
            "2 Test data Accuracy is : 0.7045\n",
            "3 Train data Accuracy is : 1.0\n",
            "3 Test data Accuracy is : 0.786\n",
            "4 Train data Accuracy is : 1.0\n",
            "4 Test data Accuracy is : 0.723\n",
            "CPU times: user 1min 9s, sys: 83.5 ms, total: 1min 9s\n",
            "Wall time: 1min 9s\n"
          ]
        }
      ],
      "source": [
        "%%time\n",
        "# simple decision tree training\n",
        "train_list=[X_train, X_train_std, X_train_norm, X_train_pca]\n",
        "test_list =[X_test, X_test_std, X_test_norm, X_test_pca]\n",
        "\n",
        "\n",
        "model = DecisionTreeClassifier(random_state=rs)\n",
        "for i in range(len(train_list)):\n",
        "  # fit it to training data\n",
        "  model.fit(train_list[i], y_train)\n",
        "  # predict using X_test\n",
        "  y_pred = model.predict(test_list[i])\n",
        "  # training and test accuracy\n",
        "  print(i+1,\"Train data Accuracy is :\", model.score(train_list[i], y_train))\n",
        "  print(i+1,\"Test data Accuracy is :\", model.score(test_list[i], y_test))\n",
        "  #print(classification_report(y_test, y_pred))"
      ]
    },
    {
      "cell_type": "markdown",
      "metadata": {
        "id": "OoHx55T57-Kw"
      },
      "source": [
        "1 Train data Accuracy is : 1.0\n",
        "\n",
        "1 Test data Accuracy is : 0.7825\n",
        "\n",
        "\n",
        "2 Train data Accuracy is : 1.0\n",
        "\n",
        "2 Test data Accuracy is : 0.7045\n",
        "\n",
        "3 Train data Accuracy is : 1.0\n",
        "\n",
        "3 Test data Accuracy is : 0.786\n",
        "\n",
        "4 Train data Accuracy is : 1.0\n",
        "\n",
        "4 Test data Accuracy is : 0.723\n",
        "\n",
        "CPU times: user 1min 9s, sys: 83.5 \n",
        "ms, total: 1min 9s\n",
        "\n",
        "Wall time: 1min 9s"
      ]
    },
    {
      "cell_type": "markdown",
      "source": [
        "### Best Parameters seaching from GridSearch with Cross-validation"
      ],
      "metadata": {
        "id": "0PPKk-deVcYr"
      }
    },
    {
      "cell_type": "markdown",
      "metadata": {
        "id": "kclw9dKldXSj"
      },
      "source": [
        "Normalization data preprocessing shows the best performacne in decision tree\n"
      ]
    },
    {
      "cell_type": "code",
      "execution_count": null,
      "metadata": {
        "colab": {
          "base_uri": "https://localhost:8080/"
        },
        "id": "Dppsv2-1Yc2z",
        "outputId": "f54e4e3b-749e-4367-ea94-4b86cfda1d79"
      },
      "outputs": [
        {
          "name": "stdout",
          "output_type": "stream",
          "text": [
            "Train accuracy from best hyperparmater: 0.8738928571428571\n",
            "Test accuracy from best hyperparmater: 0.7965\n",
            "              precision    recall  f1-score   support\n",
            "\n",
            "           0       0.74      0.75      0.74       208\n",
            "           1       0.91      0.92      0.92       194\n",
            "           2       0.68      0.74      0.71       189\n",
            "           3       0.79      0.80      0.79       196\n",
            "           4       0.64      0.68      0.66       189\n",
            "           5       0.93      0.87      0.90       205\n",
            "           6       0.63      0.56      0.59       219\n",
            "           7       0.86      0.86      0.86       199\n",
            "           8       0.95      0.90      0.93       219\n",
            "           9       0.84      0.90      0.87       182\n",
            "\n",
            "    accuracy                           0.80      2000\n",
            "   macro avg       0.80      0.80      0.80      2000\n",
            "weighted avg       0.80      0.80      0.80      2000\n",
            "\n",
            "Best parameters: {'criterion': 'entropy', 'max_depth': 11, 'min_samples_leaf': 5}\n",
            "CPU times: user 1h 25min 6s, sys: 5.73 s, total: 1h 25min 12s\n",
            "Wall time: 1h 25min 51s\n"
          ]
        }
      ],
      "source": [
        "%%time\n",
        "from sklearn.model_selection import GridSearchCV\n",
        "from sklearn import tree\n",
        "# grid search CV\n",
        "# finding the best pre-pruning depth\n",
        "params = {'criterion': ['gini', 'entropy'],\n",
        "          'max_depth': range(6, 12),\n",
        "          'min_samples_leaf': range(0, 25, 5)[1:]}\n",
        "\n",
        "cv_1 = GridSearchCV(param_grid=params, estimator=DecisionTreeClassifier(random_state=rs),\n",
        "                    return_train_score=True,\n",
        "                    cv=10)\n",
        "cv_1.fit(X_train_norm, y_train) # data set necessary\n",
        "y_pred_dt_grid = cv_1.predict(X_test_norm)\n",
        "print(\"Train accuracy from best hyperparmater:\", cv_1.score(X_train_norm, y_train))\n",
        "print(\"Test accuracy from best hyperparmater:\", cv_1.score(X_test_norm, y_test))\n",
        "print(classification_report(y_test, y_pred_dt_grid))\n",
        "print(\"Best parameters: {}\".format(cv_1 .best_params_))\n",
        "cv_1.get_params()"
      ]
    },
    {
      "cell_type": "markdown",
      "metadata": {
        "id": "OlDNnIas7uym"
      },
      "source": [
        "Train accuracy from best hyperparmater: 0.8738928571428571\n",
        "Test accuracy from best hyperparmater: 0.7965\n",
        "              precision    recall  f1-score   support\n",
        "\n",
        "           0       0.74      0.75      0.74       208\n",
        "           1       0.91      0.92      0.92       194\n",
        "           2       0.68      0.74      0.71       189\n",
        "           3       0.79      0.80      0.79       196\n",
        "           4       0.64      0.68      0.66       189\n",
        "           5       0.93      0.87      0.90       205\n",
        "           6       0.63      0.56      0.59       219\n",
        "           7       0.86      0.86      0.86       199\n",
        "           8       0.95      0.90      0.93       219\n",
        "           9       0.84      0.90      0.87       182\n",
        "\n",
        "    accuracy                           0.80      2000\n",
        "   macro avg       0.80      0.80      0.80      2000\n",
        "weighted avg       0.80      0.80      0.80      2000\n",
        "\n",
        "Best parameters: {'criterion': 'entropy', 'max_depth': 11, 'min_samples_leaf': 5}\n",
        "CPU times: user 1h 25min 6s, sys: 5.73 s, total: 1h 25min 12s\n",
        "Wall time: 1h 25min 51s"
      ]
    },
    {
      "cell_type": "code",
      "execution_count": null,
      "metadata": {
        "id": "KzncJ3r8dr8K"
      },
      "outputs": [],
      "source": [
        "result_set = cv_1.cv_results_"
      ]
    },
    {
      "cell_type": "code",
      "execution_count": null,
      "metadata": {
        "colab": {
          "base_uri": "https://localhost:8080/"
        },
        "id": "tLhFP_ZdYc8F",
        "outputId": "873c0195-5554-4daa-a42e-4116c38f2243"
      },
      "outputs": [
        {
          "name": "stdout",
          "output_type": "stream",
          "text": [
            "Total number of models:  48\n",
            "CPU times: user 1.48 ms, sys: 4 µs, total: 1.49 ms\n",
            "Wall time: 1.42 ms\n"
          ]
        }
      ],
      "source": [
        "%%time\n",
        "import matplotlib.pyplot as plt\n",
        "\n",
        "train_result = result_set['split0_train_score']\n",
        "test_result = result_set['split0_test_score']\n",
        "print(\"Total number of models: \", len(test_result))\n"
      ]
    },
    {
      "cell_type": "markdown",
      "metadata": {
        "id": "UE43X_Kb7mND"
      },
      "source": [
        "Total number of models:  48\n",
        "\n",
        "CPU times: user 1.48 ms, sys: 4 µs, total: 1.49 ms\n",
        "\n",
        "Wall time: 1.42 ms"
      ]
    },
    {
      "cell_type": "markdown",
      "source": [
        "### The accuracy score between training accuracy and testing accuracy"
      ],
      "metadata": {
        "id": "lrH7JEiIVsSW"
      }
    },
    {
      "cell_type": "code",
      "execution_count": null,
      "metadata": {
        "colab": {
          "base_uri": "https://localhost:8080/",
          "height": 326
        },
        "id": "gS_s8melYdBe",
        "outputId": "624c555c-b644-4d9e-f48e-859f2fa55120"
      },
      "outputs": [
        {
          "data": {
            "image/png": "[encoded data removed]",
            "text/plain": [
              "<Figure size 432x288 with 1 Axes>"
            ]
          },
          "metadata": {},
          "output_type": "display_data"
        },
        {
          "name": "stdout",
          "output_type": "stream",
          "text": [
            "CPU times: user 169 ms, sys: 5 ms, total: 174 ms\n",
            "Wall time: 180 ms\n"
          ]
        }
      ],
      "source": [
        "%%time\n",
        "result_set['params']\n",
        "dd = pd.DataFrame(result_set['params'])\n",
        "\n",
        "index_ = list(dd.index[(dd['criterion']=='entropy') & (dd['min_samples_leaf']==10)])\n",
        "max_depth_train = []\n",
        "max_depth_test = []\n",
        "for i in range(0,len(index_)):\n",
        "    max_depth_train.append(train_result[index_[i]])\n",
        "    max_depth_test.append(test_result[index_[i]])\n",
        "plt.plot(range(1, len(max_depth_train)+1), max_depth_train, 'b', range(1,len(max_depth_test)+1), max_depth_test, 'r')\n",
        "plt.xlabel('Maximum depth (model complexity)\\nBlue = training acc. Red = test acc.')\n",
        "plt.ylabel('score')\n",
        "plt.xticks(np.arange(1, len(max_depth_train)+1, 1))\n",
        "plt.show()"
      ]
    },
    {
      "cell_type": "markdown",
      "metadata": {
        "id": "gNAXrg6VNQ1q"
      },
      "source": [
        "Decision Tree with orignal data"
      ]
    },
    {
      "cell_type": "code",
      "execution_count": null,
      "metadata": {
        "colab": {
          "base_uri": "https://localhost:8080/"
        },
        "id": "wbrA3d9mYxWB",
        "outputId": "6b95b786-164b-46f5-fac0-3420e2fb9ae7"
      },
      "outputs": [
        {
          "name": "stdout",
          "output_type": "stream",
          "text": [
            "1183\n",
            "592\n"
          ]
        }
      ],
      "source": [
        "print(cv_1.best_estimator_.tree_.node_count)\n",
        "print(cv_1.best_estimator_.get_n_leaves())"
      ]
    },
    {
      "cell_type": "markdown",
      "metadata": {
        "id": "MEb1x1Wh7jGv"
      },
      "source": [
        "1183\n",
        "\n",
        "592"
      ]
    },
    {
      "cell_type": "code",
      "source": [],
      "metadata": {
        "id": "fH8QaiQCKTMR"
      },
      "execution_count": null,
      "outputs": []
    },
    {
      "cell_type": "markdown",
      "metadata": {
        "id": "0wQ82eQscOfM"
      },
      "source": [
        "### Best Parameters"
      ]
    },
    {
      "cell_type": "code",
      "execution_count": null,
      "metadata": {
        "colab": {
          "base_uri": "https://localhost:8080/"
        },
        "id": "IhHaOlCRchH8",
        "outputId": "e1b83785-5ede-492e-b098-a1539b35c2f9"
      },
      "outputs": [
        {
          "name": "stdout",
          "output_type": "stream",
          "text": [
            "Train data Accuracy is : 0.8738928571428571\n",
            "Test data Accuracy is : 0.7965\n",
            "CPU times: user 18.3 s, sys: 0 ns, total: 18.3 s\n",
            "Wall time: 18.6 s\n"
          ]
        }
      ],
      "source": [
        "%%time\n",
        "rs =42\n",
        "model = DecisionTreeClassifier(criterion='entropy', max_depth =11, \n",
        "                               min_samples_leaf= 5, random_state=rs)\n",
        "\n",
        "model.fit(X_train_norm, y_train)\n",
        "y_pred = model.predict(X_test_norm)\n",
        "print('Train data Accuracy is :', model.score(X_train_norm, y_train))\n",
        "print('Test data Accuracy is :', model.score(X_test_norm, y_test))"
      ]
    },
    {
      "cell_type": "markdown",
      "metadata": {
        "id": "GhCH8IFf8n8G"
      },
      "source": [
        "Train data Accuracy is : 0.8738928571428571\n",
        "\n",
        "\n",
        "Test data Accuracy is : 0.7965\n",
        "\n",
        "CPU times: user 18.3 s, sys: 0 ns, \n",
        "total: 18.3 s\n",
        "\n",
        "Wall time: 18.6 s"
      ]
    },
    {
      "cell_type": "markdown",
      "metadata": {
        "id": "kmeSza_ZMthW"
      },
      "source": [
        "## SVM (Support Vector Machine)"
      ]
    },
    {
      "cell_type": "markdown",
      "metadata": {
        "id": "dJCKgmCCB_p-"
      },
      "source": [
        "Set random_state as 42."
      ]
    },
    {
      "cell_type": "code",
      "execution_count": null,
      "metadata": {
        "id": "5ARxaK4RBluc"
      },
      "outputs": [],
      "source": [
        "rs = 42"
      ]
    },
    {
      "cell_type": "markdown",
      "metadata": {
        "id": "JuLPkGhSCoo4"
      },
      "source": [
        "### Basic model trainning (Normalization & Standardization & PCA) with liner kernel type"
      ]
    },
    {
      "cell_type": "code",
      "execution_count": null,
      "metadata": {
        "colab": {
          "base_uri": "https://localhost:8080/"
        },
        "id": "K_4r3yJYBiXy",
        "outputId": "6d6f1ccd-1033-4518-c729-d2491000fab3"
      },
      "outputs": [
        {
          "name": "stdout",
          "output_type": "stream",
          "text": [
            "0 st Train accuracy 0.9422142857142857\n",
            "0 st Test accuracy 0.8155\n",
            "              precision    recall  f1-score   support\n",
            "\n",
            "           0       0.74      0.74      0.74       208\n",
            "           1       0.95      0.94      0.95       194\n",
            "           2       0.66      0.74      0.70       189\n",
            "           3       0.77      0.80      0.79       196\n",
            "           4       0.71      0.70      0.70       189\n",
            "           5       0.94      0.92      0.93       205\n",
            "           6       0.63      0.58      0.60       219\n",
            "           7       0.88      0.88      0.88       199\n",
            "           8       0.98      0.95      0.96       219\n",
            "           9       0.89      0.92      0.90       182\n",
            "\n",
            "    accuracy                           0.82      2000\n",
            "   macro avg       0.82      0.82      0.82      2000\n",
            "weighted avg       0.82      0.82      0.82      2000\n",
            "\n",
            "0.8155\n",
            "--------------------------------------------------------\n",
            "1 st Train accuracy 0.9216785714285715\n",
            "1 st Test accuracy 0.8385\n",
            "              precision    recall  f1-score   support\n",
            "\n",
            "           0       0.78      0.78      0.78       208\n",
            "           1       0.97      0.95      0.96       194\n",
            "           2       0.72      0.74      0.73       189\n",
            "           3       0.79      0.86      0.83       196\n",
            "           4       0.71      0.72      0.72       189\n",
            "           5       0.96      0.89      0.92       205\n",
            "           6       0.70      0.64      0.67       219\n",
            "           7       0.89      0.92      0.91       199\n",
            "           8       0.96      0.95      0.95       219\n",
            "           9       0.90      0.94      0.92       182\n",
            "\n",
            "    accuracy                           0.84      2000\n",
            "   macro avg       0.84      0.84      0.84      2000\n",
            "weighted avg       0.84      0.84      0.84      2000\n",
            "\n",
            "0.8385\n",
            "--------------------------------------------------------\n",
            "2 st Train accuracy 0.8985357142857143\n",
            "2 st Test accuracy 0.845\n",
            "              precision    recall  f1-score   support\n",
            "\n",
            "           0       0.75      0.80      0.77       208\n",
            "           1       0.98      0.94      0.96       194\n",
            "           2       0.76      0.77      0.77       189\n",
            "           3       0.79      0.86      0.82       196\n",
            "           4       0.74      0.76      0.75       189\n",
            "           5       0.96      0.92      0.94       205\n",
            "           6       0.69      0.61      0.65       219\n",
            "           7       0.93      0.92      0.93       199\n",
            "           8       0.97      0.92      0.94       219\n",
            "           9       0.90      0.95      0.93       182\n",
            "\n",
            "    accuracy                           0.84      2000\n",
            "   macro avg       0.85      0.85      0.85      2000\n",
            "weighted avg       0.85      0.84      0.84      2000\n",
            "\n",
            "0.845\n",
            "--------------------------------------------------------\n",
            "CPU times: user 13min 15s, sys: 1.02 s, total: 13min 16s\n",
            "Wall time: 13min 34s\n"
          ]
        }
      ],
      "source": [
        "%%time\n",
        "train_list = [X_train_std, X_train_norm, X_train_pca]\n",
        "test_list = [X_test_std, X_test_norm, X_test_pca]\n",
        "#kernel_type = ['linear', 'poly', 'rbf','sigmoid']\n",
        "\n",
        "for i in range(len(train_list)):\n",
        "  model = SVC(kernel= 'linear', random_state=rs)\n",
        "  model.fit(train_list[i], y_train)\n",
        "  #predict using X_test\n",
        "  y_pred = model.predict(test_list[i])\n",
        "  #print result\n",
        "  print(i,'st Train accuracy',model.score(train_list[i], y_train))\n",
        "  print(i,'st Test accuracy',model.score(test_list[i], y_test))\n",
        "  print(classification_report(y_test, y_pred))\n",
        "  print(accuracy_score(y_test, y_pred))\n",
        "  print('--------------------------------------------------------')"
      ]
    },
    {
      "cell_type": "markdown",
      "metadata": {
        "id": "IWT5ybBiFirg"
      },
      "source": [
        "0 st Train accuracy 0.9422142857142857\n",
        "0 st Test accuracy 0.8155\n",
        "              precision    recall  f1-score   support\n",
        "\n",
        "           0       0.74      0.74      0.74       208\n",
        "           1       0.95      0.94      0.95       194\n",
        "           2       0.66      0.74      0.70       189\n",
        "           3       0.77      0.80      0.79       196\n",
        "           4       0.71      0.70      0.70       189\n",
        "           5       0.94      0.92      0.93       205\n",
        "           6       0.63      0.58      0.60       219\n",
        "           7       0.88      0.88      0.88       199\n",
        "           8       0.98      0.95      0.96       219\n",
        "           9       0.89      0.92      0.90       182\n",
        "\n",
        "    accuracy                           0.82      2000\n",
        "   macro avg       0.82      0.82      0.82      2000\n",
        "weighted avg       0.82      0.82      0.82      2000\n",
        "\n",
        "0.8155\n",
        "\n",
        "\n",
        "1 st Train accuracy 0.9216785714285715\n",
        "1 st Test accuracy 0.8385\n",
        "              precision    recall  f1-score   support\n",
        "\n",
        "           0       0.78      0.78      0.78       208\n",
        "           1       0.97      0.95      0.96       194\n",
        "           2       0.72      0.74      0.73       189\n",
        "           3       0.79      0.86      0.83       196\n",
        "           4       0.71      0.72      0.72       189\n",
        "           5       0.96      0.89      0.92       205\n",
        "           6       0.70      0.64      0.67       219\n",
        "           7       0.89      0.92      0.91       199\n",
        "           8       0.96      0.95      0.95       219\n",
        "           9       0.90      0.94      0.92       182\n",
        "\n",
        "    accuracy                           0.84      2000\n",
        "   macro avg       0.84      0.84      0.84      2000\n",
        "weighted avg       0.84      0.84      0.84      2000\n",
        "\n",
        "0.8385\n",
        "\n",
        "\n",
        "2 st Train accuracy 0.8985357142857143\n",
        "2 st Test accuracy 0.845\n",
        "              precision    recall  f1-score   support\n",
        "\n",
        "           0       0.75      0.80      0.77       208\n",
        "           1       0.98      0.94      0.96       194\n",
        "           2       0.76      0.77      0.77       189\n",
        "           3       0.79      0.86      0.82       196\n",
        "           4       0.74      0.76      0.75       189\n",
        "           5       0.96      0.92      0.94       205\n",
        "           6       0.69      0.61      0.65       219\n",
        "           7       0.93      0.92      0.93       199\n",
        "           8       0.97      0.92      0.94       219\n",
        "           9       0.90      0.95      0.93       182\n",
        "\n",
        "    accuracy                           0.84      2000\n",
        "   macro avg       0.85      0.85      0.85      2000\n",
        "weighted avg       0.85      0.84      0.84      2000\n",
        "\n",
        "0.845\n",
        "\n",
        "\n",
        "CPU times: user 13min 15s, sys: 1.02 s, total: 13min 16s\n",
        "Wall time: 13min 34s"
      ]
    },
    {
      "cell_type": "markdown",
      "metadata": {
        "id": "DffS2cDPDiTW"
      },
      "source": [
        "### Basic model trainning (Normalization & Standardization & PCA) with poly kernel type"
      ]
    },
    {
      "cell_type": "code",
      "execution_count": null,
      "metadata": {
        "colab": {
          "base_uri": "https://localhost:8080/"
        },
        "id": "_JoGn4CbByxw",
        "outputId": "56d95568-c2bc-4522-d720-4b72f674fb91"
      },
      "outputs": [
        {
          "name": "stdout",
          "output_type": "stream",
          "text": [
            "Train accuracy 0.9102857142857143\n",
            "Test accuracy 0.8645\n",
            "              precision    recall  f1-score   support\n",
            "\n",
            "           0       0.84      0.84      0.84       208\n",
            "           1       0.99      0.95      0.97       194\n",
            "           2       0.79      0.74      0.76       189\n",
            "           3       0.81      0.88      0.84       196\n",
            "           4       0.80      0.74      0.77       189\n",
            "           5       0.98      0.95      0.97       205\n",
            "           6       0.65      0.71      0.68       219\n",
            "           7       0.93      0.94      0.93       199\n",
            "           8       0.97      0.95      0.96       219\n",
            "           9       0.93      0.95      0.94       182\n",
            "\n",
            "    accuracy                           0.86      2000\n",
            "   macro avg       0.87      0.86      0.87      2000\n",
            "weighted avg       0.87      0.86      0.87      2000\n",
            "\n",
            "0.8645\n",
            "--------------------------------------------------------\n",
            "Train accuracy 0.9037142857142857\n",
            "Test accuracy 0.86\n",
            "              precision    recall  f1-score   support\n",
            "\n",
            "           0       0.81      0.82      0.82       208\n",
            "           1       0.99      0.94      0.96       194\n",
            "           2       0.80      0.74      0.77       189\n",
            "           3       0.84      0.86      0.85       196\n",
            "           4       0.82      0.75      0.78       189\n",
            "           5       0.86      0.96      0.90       205\n",
            "           6       0.68      0.73      0.70       219\n",
            "           7       0.94      0.92      0.93       199\n",
            "           8       0.95      0.95      0.95       219\n",
            "           9       0.94      0.94      0.94       182\n",
            "\n",
            "    accuracy                           0.86      2000\n",
            "   macro avg       0.86      0.86      0.86      2000\n",
            "weighted avg       0.86      0.86      0.86      2000\n",
            "\n",
            "0.86\n",
            "--------------------------------------------------------\n",
            "Train accuracy 0.9033571428571429\n",
            "Test accuracy 0.8645\n",
            "              precision    recall  f1-score   support\n",
            "\n",
            "           0       0.84      0.84      0.84       208\n",
            "           1       0.99      0.95      0.97       194\n",
            "           2       0.78      0.75      0.76       189\n",
            "           3       0.82      0.88      0.85       196\n",
            "           4       0.80      0.74      0.77       189\n",
            "           5       0.98      0.95      0.97       205\n",
            "           6       0.65      0.70      0.67       219\n",
            "           7       0.93      0.93      0.93       199\n",
            "           8       0.97      0.95      0.96       219\n",
            "           9       0.93      0.95      0.94       182\n",
            "\n",
            "    accuracy                           0.86      2000\n",
            "   macro avg       0.87      0.86      0.87      2000\n",
            "weighted avg       0.87      0.86      0.87      2000\n",
            "\n",
            "0.8645\n",
            "--------------------------------------------------------\n",
            "CPU times: user 11min 28s, sys: 823 ms, total: 11min 29s\n",
            "Wall time: 11min 27s\n"
          ]
        }
      ],
      "source": [
        "%%time\n",
        "train_list = [X_train_std, X_train_norm, X_train_pca]\n",
        "test_list = [X_test_std, X_test_norm, X_test_pca]\n",
        "\n",
        "for i in range(len(train_list)):\n",
        "  model = SVC(kernel= 'poly', random_state=rs)\n",
        "  model.fit(train_list[i], y_train)\n",
        "  #predict using X_test\n",
        "  y_pred = model.predict(test_list[i])\n",
        "  #print result\n",
        "  print('Train accuracy',model.score(train_list[i], y_train))\n",
        "  print('Test accuracy',model.score(test_list[i], y_test))\n",
        "  print(classification_report(y_test, y_pred))\n",
        "  print(accuracy_score(y_test, y_pred))\n",
        "  print('--------------------------------------------------------')"
      ]
    },
    {
      "cell_type": "markdown",
      "metadata": {
        "id": "dlavRsGiKjIF"
      },
      "source": [
        "Train accuracy 0.9102857142857143\n",
        "Test accuracy 0.8645\n",
        "              precision    recall  f1-score   support\n",
        "\n",
        "           0       0.84      0.84      0.84       208\n",
        "           1       0.99      0.95      0.97       194\n",
        "           2       0.79      0.74      0.76       189\n",
        "           3       0.81      0.88      0.84       196\n",
        "           4       0.80      0.74      0.77       189\n",
        "           5       0.98      0.95      0.97       205\n",
        "           6       0.65      0.71      0.68       219\n",
        "           7       0.93      0.94      0.93       199\n",
        "           8       0.97      0.95      0.96       219\n",
        "           9       0.93      0.95      0.94       182\n",
        "\n",
        "    accuracy                           0.86      2000\n",
        "   macro avg       0.87      0.86      0.87      2000\n",
        "weighted avg       0.87      0.86      0.87      2000\n",
        "\n",
        "0.8645\n",
        "\n",
        "\n",
        "Train accuracy 0.9037142857142857\n",
        "Test accuracy 0.86\n",
        "              precision    recall  f1-score   support\n",
        "\n",
        "           0       0.81      0.82      0.82       208\n",
        "           1       0.99      0.94      0.96       194\n",
        "           2       0.80      0.74      0.77       189\n",
        "           3       0.84      0.86      0.85       196\n",
        "           4       0.82      0.75      0.78       189\n",
        "           5       0.86      0.96      0.90       205\n",
        "           6       0.68      0.73      0.70       219\n",
        "           7       0.94      0.92      0.93       199\n",
        "           8       0.95      0.95      0.95       219\n",
        "           9       0.94      0.94      0.94       182\n",
        "\n",
        "    accuracy                           0.86      2000\n",
        "   macro avg       0.86      0.86      0.86      2000\n",
        "weighted avg       0.86      0.86      0.86      2000\n",
        "\n",
        "0.86\n",
        "\n",
        "\n",
        "Train accuracy 0.9033571428571429\n",
        "Test accuracy 0.8645\n",
        "              precision    recall  f1-score   support\n",
        "\n",
        "           0       0.84      0.84      0.84       208\n",
        "           1       0.99      0.95      0.97       194\n",
        "           2       0.78      0.75      0.76       189\n",
        "           3       0.82      0.88      0.85       196\n",
        "           4       0.80      0.74      0.77       189\n",
        "           5       0.98      0.95      0.97       205\n",
        "           6       0.65      0.70      0.67       219\n",
        "           7       0.93      0.93      0.93       199\n",
        "           8       0.97      0.95      0.96       219\n",
        "           9       0.93      0.95      0.94       182\n",
        "\n",
        "    accuracy                           0.86      2000\n",
        "   macro avg       0.87      0.86      0.87      2000\n",
        "weighted avg       0.87      0.86      0.87      2000\n",
        "\n",
        "0.8645\n",
        "\n",
        "\n",
        "CPU times: user 11min 28s, sys: 823 ms, total: 11min 29s\n",
        "Wall time: 11min 27s"
      ]
    },
    {
      "cell_type": "markdown",
      "metadata": {
        "id": "Oix_lhIYEIDv"
      },
      "source": [
        "### Basic model trainning (Normalization & Standardization & PCA) with rbf kernel type"
      ]
    },
    {
      "cell_type": "code",
      "execution_count": null,
      "metadata": {
        "colab": {
          "base_uri": "https://localhost:8080/"
        },
        "id": "bLAthwwSB2fy",
        "outputId": "f1530fe2-51fd-46b9-98d3-55ef9beba359"
      },
      "outputs": [
        {
          "name": "stdout",
          "output_type": "stream",
          "text": [
            "Train accuracy 0.9198214285714286\n",
            "Test accuracy 0.8785\n",
            "              precision    recall  f1-score   support\n",
            "\n",
            "           0       0.82      0.86      0.84       208\n",
            "           1       0.99      0.94      0.97       194\n",
            "           2       0.80      0.79      0.79       189\n",
            "           3       0.84      0.91      0.87       196\n",
            "           4       0.79      0.82      0.81       189\n",
            "           5       0.98      0.95      0.96       205\n",
            "           6       0.75      0.66      0.70       219\n",
            "           7       0.93      0.95      0.94       199\n",
            "           8       0.94      0.98      0.96       219\n",
            "           9       0.95      0.94      0.94       182\n",
            "\n",
            "    accuracy                           0.88      2000\n",
            "   macro avg       0.88      0.88      0.88      2000\n",
            "weighted avg       0.88      0.88      0.88      2000\n",
            "\n",
            "0.8785\n",
            "--------------------------------------------------------\n",
            "Train accuracy 0.9059642857142857\n",
            "Test accuracy 0.8815\n",
            "              precision    recall  f1-score   support\n",
            "\n",
            "           0       0.82      0.85      0.83       208\n",
            "           1       0.99      0.94      0.97       194\n",
            "           2       0.79      0.78      0.79       189\n",
            "           3       0.84      0.91      0.88       196\n",
            "           4       0.78      0.84      0.81       189\n",
            "           5       0.98      0.96      0.97       205\n",
            "           6       0.76      0.67      0.71       219\n",
            "           7       0.93      0.95      0.94       199\n",
            "           8       0.97      0.98      0.97       219\n",
            "           9       0.95      0.95      0.95       182\n",
            "\n",
            "    accuracy                           0.88      2000\n",
            "   macro avg       0.88      0.88      0.88      2000\n",
            "weighted avg       0.88      0.88      0.88      2000\n",
            "\n",
            "0.8815\n",
            "--------------------------------------------------------\n",
            "Train accuracy 0.9119285714285714\n",
            "Test accuracy 0.879\n",
            "              precision    recall  f1-score   support\n",
            "\n",
            "           0       0.83      0.85      0.84       208\n",
            "           1       0.99      0.95      0.97       194\n",
            "           2       0.80      0.78      0.79       189\n",
            "           3       0.84      0.91      0.87       196\n",
            "           4       0.78      0.83      0.81       189\n",
            "           5       0.98      0.95      0.97       205\n",
            "           6       0.75      0.67      0.71       219\n",
            "           7       0.93      0.95      0.94       199\n",
            "           8       0.94      0.97      0.96       219\n",
            "           9       0.94      0.94      0.94       182\n",
            "\n",
            "    accuracy                           0.88      2000\n",
            "   macro avg       0.88      0.88      0.88      2000\n",
            "weighted avg       0.88      0.88      0.88      2000\n",
            "\n",
            "0.879\n",
            "--------------------------------------------------------\n",
            "CPU times: user 12min 52s, sys: 741 ms, total: 12min 53s\n",
            "Wall time: 12min 52s\n"
          ]
        }
      ],
      "source": [
        "%%time\n",
        "train_list = [X_train_std, X_train_norm, X_train_pca]\n",
        "test_list = [X_test_std, X_test_norm, X_test_pca]\n",
        "\n",
        "for i in range(len(train_list)):\n",
        "  model = SVC(kernel= 'rbf', random_state=rs)\n",
        "  model.fit(train_list[i], y_train)\n",
        "  #predict using X_test\n",
        "  y_pred = model.predict(test_list[i])\n",
        "  #print result\n",
        "  print('Train accuracy',model.score(train_list[i], y_train))\n",
        "  print('Test accuracy',model.score(test_list[i], y_test))\n",
        "  print(classification_report(y_test, y_pred))\n",
        "  print(accuracy_score(y_test, y_pred))\n",
        "  print('--------------------------------------------------------')"
      ]
    },
    {
      "cell_type": "markdown",
      "metadata": {
        "id": "7WaOfK7XMavx"
      },
      "source": [
        "Train accuracy 0.9198214285714286\n",
        "Test accuracy 0.8785\n",
        "              precision    recall  f1-score   support\n",
        "\n",
        "           0       0.82      0.86      0.84       208\n",
        "           1       0.99      0.94      0.97       194\n",
        "           2       0.80      0.79      0.79       189\n",
        "           3       0.84      0.91      0.87       196\n",
        "           4       0.79      0.82      0.81       189\n",
        "           5       0.98      0.95      0.96       205\n",
        "           6       0.75      0.66      0.70       219\n",
        "           7       0.93      0.95      0.94       199\n",
        "           8       0.94      0.98      0.96       219\n",
        "           9       0.95      0.94      0.94       182\n",
        "\n",
        "    accuracy                           0.88      2000\n",
        "   macro avg       0.88      0.88      0.88      2000\n",
        "weighted avg       0.88      0.88      0.88      2000\n",
        "\n",
        "0.8785\n",
        "\n",
        "\n",
        "Train accuracy 0.9059642857142857\n",
        "Test accuracy 0.8815\n",
        "              precision    recall  f1-score   support\n",
        "\n",
        "           0       0.82      0.85      0.83       208\n",
        "           1       0.99      0.94      0.97       194\n",
        "           2       0.79      0.78      0.79       189\n",
        "           3       0.84      0.91      0.88       196\n",
        "           4       0.78      0.84      0.81       189\n",
        "           5       0.98      0.96      0.97       205\n",
        "           6       0.76      0.67      0.71       219\n",
        "           7       0.93      0.95      0.94       199\n",
        "           8       0.97      0.98      0.97       219\n",
        "           9       0.95      0.95      0.95       182\n",
        "\n",
        "    accuracy                           0.88      2000\n",
        "   macro avg       0.88      0.88      0.88      2000\n",
        "weighted avg       0.88      0.88      0.88      2000\n",
        "\n",
        "0.8815\n",
        "\n",
        "\n",
        "Train accuracy 0.9119285714285714\n",
        "Test accuracy 0.879\n",
        "              precision    recall  f1-score   support\n",
        "\n",
        "           0       0.83      0.85      0.84       208\n",
        "           1       0.99      0.95      0.97       194\n",
        "           2       0.80      0.78      0.79       189\n",
        "           3       0.84      0.91      0.87       196\n",
        "           4       0.78      0.83      0.81       189\n",
        "           5       0.98      0.95      0.97       205\n",
        "           6       0.75      0.67      0.71       219\n",
        "           7       0.93      0.95      0.94       199\n",
        "           8       0.94      0.97      0.96       219\n",
        "           9       0.94      0.94      0.94       182\n",
        "\n",
        "    accuracy                           0.88      2000\n",
        "   macro avg       0.88      0.88      0.88      2000\n",
        "weighted avg       0.88      0.88      0.88      2000\n",
        "\n",
        "0.879\n",
        "\n",
        "\n",
        "CPU times: user 12min 52s, sys: 741 ms, total: 12min 53s\n",
        "Wall time: 12min 52s"
      ]
    },
    {
      "cell_type": "markdown",
      "metadata": {
        "id": "TLUkhsqWEL8y"
      },
      "source": [
        "### Basic model trainning (Normalization & Standardization & PCA) with sigmoid kernel type"
      ]
    },
    {
      "cell_type": "code",
      "execution_count": null,
      "metadata": {
        "colab": {
          "base_uri": "https://localhost:8080/"
        },
        "id": "43Jo80ZiB48-",
        "outputId": "fa793140-8f91-4c38-b3b0-3456e667388f"
      },
      "outputs": [
        {
          "name": "stdout",
          "output_type": "stream",
          "text": [
            "Train accuracy 0.7301071428571428\n",
            "Test accuracy 0.733\n",
            "              precision    recall  f1-score   support\n",
            "\n",
            "           0       0.65      0.77      0.71       208\n",
            "           1       0.93      0.93      0.93       194\n",
            "           2       0.46      0.62      0.53       189\n",
            "           3       0.78      0.80      0.79       196\n",
            "           4       0.51      0.56      0.54       189\n",
            "           5       0.85      0.80      0.83       205\n",
            "           6       0.63      0.28      0.39       219\n",
            "           7       0.81      0.84      0.82       199\n",
            "           8       0.90      0.88      0.89       219\n",
            "           9       0.85      0.88      0.86       182\n",
            "\n",
            "    accuracy                           0.73      2000\n",
            "   macro avg       0.74      0.74      0.73      2000\n",
            "weighted avg       0.74      0.73      0.73      2000\n",
            "\n",
            "0.733\n",
            "--------------------------------------------------------\n",
            "Train accuracy 0.3781785714285714\n",
            "Test accuracy 0.387\n",
            "              precision    recall  f1-score   support\n",
            "\n",
            "           0       0.46      0.30      0.37       208\n",
            "           1       0.38      0.73      0.50       194\n",
            "           2       0.16      0.57      0.24       189\n",
            "           3       0.75      0.27      0.39       196\n",
            "           4       0.36      0.25      0.30       189\n",
            "           5       0.49      0.56      0.52       205\n",
            "           6       0.18      0.04      0.07       219\n",
            "           7       0.91      0.69      0.79       199\n",
            "           8       0.40      0.17      0.24       219\n",
            "           9       0.89      0.35      0.50       182\n",
            "\n",
            "    accuracy                           0.39      2000\n",
            "   macro avg       0.50      0.39      0.39      2000\n",
            "weighted avg       0.49      0.39      0.39      2000\n",
            "\n",
            "0.387\n",
            "--------------------------------------------------------\n",
            "Train accuracy 0.7173928571428572\n",
            "Test accuracy 0.7165\n",
            "              precision    recall  f1-score   support\n",
            "\n",
            "           0       0.64      0.77      0.70       208\n",
            "           1       0.90      0.92      0.91       194\n",
            "           2       0.43      0.63      0.51       189\n",
            "           3       0.74      0.79      0.76       196\n",
            "           4       0.62      0.37      0.47       189\n",
            "           5       0.84      0.80      0.82       205\n",
            "           6       0.51      0.36      0.42       219\n",
            "           7       0.80      0.82      0.81       199\n",
            "           8       0.90      0.85      0.88       219\n",
            "           9       0.83      0.87      0.85       182\n",
            "\n",
            "    accuracy                           0.72      2000\n",
            "   macro avg       0.72      0.72      0.71      2000\n",
            "weighted avg       0.72      0.72      0.71      2000\n",
            "\n",
            "0.7165\n",
            "--------------------------------------------------------\n",
            "CPU times: user 13min 56s, sys: 905 ms, total: 13min 56s\n",
            "Wall time: 13min 54s\n"
          ]
        }
      ],
      "source": [
        "%%time\n",
        "train_list = [X_train_std, X_train_norm, X_train_pca]\n",
        "test_list = [X_test_std, X_test_norm, X_test_pca]\n",
        "\n",
        "for i in range(len(train_list)):\n",
        "  model = SVC(kernel= 'sigmoid', random_state=rs)\n",
        "  model.fit(train_list[i], y_train)\n",
        "  #predict using X_test\n",
        "  y_pred = model.predict(test_list[i])\n",
        "  #print result\n",
        "  print('Train accuracy',model.score(train_list[i], y_train))\n",
        "  print('Test accuracy',model.score(test_list[i], y_test))\n",
        "  print(classification_report(y_test, y_pred))\n",
        "  print(accuracy_score(y_test, y_pred))\n",
        "  print('--------------------------------------------------------')"
      ]
    },
    {
      "cell_type": "markdown",
      "metadata": {
        "id": "OXVCDercPsdl"
      },
      "source": [
        "Train accuracy 0.7301071428571428\n",
        "Test accuracy 0.733\n",
        "              precision    recall  f1-score   support\n",
        "\n",
        "           0       0.65      0.77      0.71       208\n",
        "           1       0.93      0.93      0.93       194\n",
        "           2       0.46      0.62      0.53       189\n",
        "           3       0.78      0.80      0.79       196\n",
        "           4       0.51      0.56      0.54       189\n",
        "           5       0.85      0.80      0.83       205\n",
        "           6       0.63      0.28      0.39       219\n",
        "           7       0.81      0.84      0.82       199\n",
        "           8       0.90      0.88      0.89       219\n",
        "           9       0.85      0.88      0.86       182\n",
        "\n",
        "    accuracy                           0.73      2000\n",
        "   macro avg       0.74      0.74      0.73      2000\n",
        "weighted avg       0.74      0.73      0.73      2000\n",
        "\n",
        "0.733\n",
        "\n",
        "\n",
        "Train accuracy 0.3781785714285714\n",
        "Test accuracy 0.387\n",
        "              precision    recall  f1-score   support\n",
        "\n",
        "           0       0.46      0.30      0.37       208\n",
        "           1       0.38      0.73      0.50       194\n",
        "           2       0.16      0.57      0.24       189\n",
        "           3       0.75      0.27      0.39       196\n",
        "           4       0.36      0.25      0.30       189\n",
        "           5       0.49      0.56      0.52       205\n",
        "           6       0.18      0.04      0.07       219\n",
        "           7       0.91      0.69      0.79       199\n",
        "           8       0.40      0.17      0.24       219\n",
        "           9       0.89      0.35      0.50       182\n",
        "\n",
        "    accuracy                           0.39      2000\n",
        "   macro avg       0.50      0.39      0.39      2000\n",
        "weighted avg       0.49      0.39      0.39      2000\n",
        "\n",
        "0.387\n",
        "\n",
        "\n",
        "Train accuracy 0.7173928571428572\n",
        "Test accuracy 0.7165\n",
        "              precision    recall  f1-score   support\n",
        "\n",
        "           0       0.64      0.77      0.70       208\n",
        "           1       0.90      0.92      0.91       194\n",
        "           2       0.43      0.63      0.51       189\n",
        "           3       0.74      0.79      0.76       196\n",
        "           4       0.62      0.37      0.47       189\n",
        "           5       0.84      0.80      0.82       205\n",
        "           6       0.51      0.36      0.42       219\n",
        "           7       0.80      0.82      0.81       199\n",
        "           8       0.90      0.85      0.88       219\n",
        "           9       0.83      0.87      0.85       182\n",
        "\n",
        "    accuracy                           0.72      2000\n",
        "   macro avg       0.72      0.72      0.71      2000\n",
        "weighted avg       0.72      0.72      0.71      2000\n",
        "\n",
        "0.7165\n",
        "\n",
        "\n",
        "CPU times: user 13min 56s, sys: 905 ms, total: 13min 56s\n",
        "Wall time: 13min 54s"
      ]
    },
    {
      "cell_type": "markdown",
      "metadata": {
        "id": "ua1EykMISn4j"
      },
      "source": [
        "### Best Parameters seaching from GridSearch with Cross-validation"
      ]
    },
    {
      "cell_type": "code",
      "execution_count": null,
      "metadata": {
        "colab": {
          "base_uri": "https://localhost:8080/"
        },
        "id": "bwLRtohrEkx5",
        "outputId": "051c851a-416e-4f83-a058-c696b1d0bd50"
      },
      "outputs": [
        {
          "name": "stdout",
          "output_type": "stream",
          "text": [
            "Train_accuracy: 1.0\n",
            "Test_accuracy: 0.818\n",
            "Best parameters: {'C': 10, 'gamma': 0.01, 'kernel': 'rbf'}\n",
            "Best cross-validation score: 0.81\n",
            "Best estimator:\n",
            "SVC(C=10, gamma=0.01)\n",
            "CPU times: user 6min 23s, sys: 6.14 s, total: 6min 29s\n",
            "Wall time: 2h 19min 47s\n"
          ]
        }
      ],
      "source": [
        "%%time\n",
        "# grid-search hyper parameter\n",
        "params_svm ={\n",
        " 'kernel':['rbf'],\n",
        " 'C':[10, 0.1,1],\n",
        " 'gamma':[0.1,0.01]\n",
        "}\n",
        "cv_svm =GridSearchCV(SVC(),params_svm,cv=5,n_jobs= -1, return_train_score=True )\n",
        "cv_svm.fit(X_train_pca, y_train)\n",
        "\n",
        "print(\"Train_accuracy:\", cv_svm.score(X_train_pca, y_train))\n",
        "print(\"Test_accuracy:\", cv_svm.score(X_test_pca, y_test))\n",
        "\n",
        "print(\"Best parameters: {}\".format(cv_svm.best_params_))\n",
        "print(\"Best cross-validation score: {:.2f}\".format(cv_svm.best_score_))\n",
        "print(\"Best estimator:\\n{}\".format(cv_svm.best_estimator_))"
      ]
    },
    {
      "cell_type": "markdown",
      "source": [
        "Train_accuracy: 1.0\n",
        "\n",
        "Test_accuracy: 0.818\n",
        "\n",
        "Best parameters: {'C': 10, 'gamma': 0.01, 'kernel': 'rbf'}\n",
        "\n",
        "Best cross-validation score: 0.81\n",
        "\n",
        "Best estimator:\n",
        "\n",
        "SVC(C=10, gamma=0.01)\n",
        "\n",
        "CPU times: user 6min 23s, sys: 6.14 s, total: 6min 29s\n",
        "\n",
        "Wall time: 2h 19min 47s"
      ],
      "metadata": {
        "id": "x5gxt6RmJY0T"
      }
    },
    {
      "cell_type": "code",
      "execution_count": null,
      "metadata": {
        "colab": {
          "base_uri": "https://localhost:8080/"
        },
        "id": "ED20prr-EwN5",
        "outputId": "68c03081-61a7-490c-b565-000560aa8986"
      },
      "outputs": [
        {
          "name": "stdout",
          "output_type": "stream",
          "text": [
            "Train_accuracy: 0.9749285714285715\n",
            "Test_accuracy: 0.889\n",
            "Best parameters: {'C': 10, 'gamma': 0.01, 'kernel': 'rbf'}\n",
            "Best cross-validation score: 0.89\n",
            "Best estimator:\n",
            "SVC(C=10, gamma=0.01)\n",
            "CPU times: user 5min 11s, sys: 2.75 s, total: 5min 13s\n",
            "Wall time: 57min 6s\n"
          ]
        }
      ],
      "source": [
        "%%time\n",
        "# SVM with normalization grid search\n",
        "params_svm ={\n",
        " 'kernel':['rbf'],\n",
        " 'C':[ 1,10],\n",
        " 'gamma':[0.01,0.1]\n",
        "}\n",
        "cv_svm =GridSearchCV(SVC(),params_svm,cv=3,n_jobs= -1, return_train_score=True )\n",
        "cv_svm.fit(X_train_norm, y_train)\n",
        "\n",
        "print(\"Train_accuracy:\", cv_svm.score(X_train_norm, y_train))\n",
        "print(\"Test_accuracy:\", cv_svm.score(X_test_norm, y_test))\n",
        "\n",
        "print(\"Best parameters: {}\".format(cv_svm.best_params_))\n",
        "print(\"Best cross-validation score: {:.2f}\".format(cv_svm.best_score_))\n",
        "print(\"Best estimator:\\n{}\".format(cv_svm.best_estimator_))"
      ]
    },
    {
      "cell_type": "markdown",
      "source": [
        "Train_accuracy: 0.9749285714285715\n",
        "\n",
        "Test_accuracy: 0.889\n",
        "\n",
        "Best parameters: {'C': 10, 'gamma': 0.01, 'kernel': 'rbf'}\n",
        "\n",
        "Best cross-validation score: 0.89\n",
        "\n",
        "Best estimator:\n",
        "\n",
        "SVC(C=10, gamma=0.01)\n",
        "\n",
        "CPU times: user 5min 11s, sys: 2.75 s, total: 5min 13s\n",
        "\n",
        "Wall time: 57min 6s"
      ],
      "metadata": {
        "id": "6Tvw4vWQJttl"
      }
    },
    {
      "cell_type": "markdown",
      "metadata": {
        "id": "R4OSpa6rRoio"
      },
      "source": [
        "Best Parameters"
      ]
    },
    {
      "cell_type": "code",
      "execution_count": null,
      "metadata": {
        "colab": {
          "base_uri": "https://localhost:8080/"
        },
        "id": "PJqk02EoRqAd",
        "outputId": "7f2d83dc-1375-41ca-9d2c-4e2b1c1ac5da"
      },
      "outputs": [
        {
          "name": "stdout",
          "output_type": "stream",
          "text": [
            "Test accurcy: 0.889\n",
            "CPU times: user 1min 57s, sys: 158 ms, total: 1min 57s\n",
            "Wall time: 1min 56s\n"
          ]
        }
      ],
      "source": [
        "%%time\n",
        "model = SVC(C=10, kernel='rbf', gamma= 0.01 , random_state=rs)\n",
        "model.fit(X_train_norm, y_train)\n",
        "y_pred = model.predict(X_test_norm)\n",
        "print(\"Test accurcy: \" + str(accuracy_score(y_test, y_pred)))"
      ]
    },
    {
      "cell_type": "markdown",
      "source": [
        "Test accurcy: 0.889\n",
        "\n",
        "CPU times: user 1min 57s, sys: 158 ms, total: 1min 57s\n",
        "\n",
        "Wall time: 1min 56s"
      ],
      "metadata": {
        "id": "wEfFfhzLJS7K"
      }
    },
    {
      "cell_type": "markdown",
      "source": [
        "## Accuracy comparation plot"
      ],
      "metadata": {
        "id": "ZtqfqZQtjZYl"
      }
    },
    {
      "cell_type": "code",
      "execution_count": null,
      "metadata": {
        "id": "ZLKw_FblRxBb",
        "colab": {
          "base_uri": "https://localhost:8080/",
          "height": 311
        },
        "outputId": "21a0556a-4c32-4080-ecb7-1ec3e572319e"
      },
      "outputs": [
        {
          "output_type": "display_data",
          "data": {
            "text/plain": [
              "<Figure size 432x288 with 1 Axes>"
            ],
            "image/png": "[encoded data removed]"
          },
          "metadata": {
            "needs_background": "light"
          }
        }
      ],
      "source": [
        "time_sec = [25.3, 17.7, 1, 18.3, 116, 180]\n",
        "accuacy = [0.849, 0.847, 0.712, 0.802, 0.8925, 0.906]\n",
        "annotations=[\"Nearest Neighbor\",\"Logistic Regression\",\"Naive bayes\",\"Decision Tree\",\"SVM\",\"Boosting\"]\n",
        "\n",
        "\n",
        "plt.scatter(time_sec[0], accuacy[0],s=100,color=\"red\")\n",
        "plt.scatter(time_sec[1], accuacy[1],s=100,color=\"green\")\n",
        "plt.scatter(time_sec[2], accuacy[2],s=100,color=\"yellow\")\n",
        "plt.scatter(time_sec[3], accuacy[3],s=100,color=\"orange\")\n",
        "plt.scatter(time_sec[4], accuacy[4],s=100,color=\"blue\")\n",
        "plt.scatter(time_sec[5], accuacy[5],s=100,color=\"purple\")\n",
        "\n",
        "for i, label in enumerate(annotations):\n",
        "    plt.text(time_sec[i], accuacy[i],label).set_rotation(65)\n",
        "\n",
        "\n",
        "plt.xlabel('Time(seconds)')\n",
        "plt.ylabel('Accuracy (Max:1)')\n",
        "plt.show()"
      ]
    },
    {
      "cell_type": "markdown",
      "metadata": {
        "id": "m6vhfbJv5VKI"
      },
      "source": [
        "# Ensemble method"
      ]
    },
    {
      "cell_type": "markdown",
      "source": [
        "## Random forest"
      ],
      "metadata": {
        "id": "8tjglRpDii7X"
      }
    },
    {
      "cell_type": "markdown",
      "source": [
        "Random forest base case"
      ],
      "metadata": {
        "id": "26Gv14KUtlrm"
      }
    },
    {
      "cell_type": "code",
      "execution_count": null,
      "metadata": {
        "id": "CkuIS6Tr5Zng",
        "colab": {
          "base_uri": "https://localhost:8080/"
        },
        "outputId": "c6b91b68-e9ae-48ec-bbff-9c687dd87fe4"
      },
      "outputs": [
        {
          "output_type": "stream",
          "name": "stdout",
          "text": [
            "0.7355\n",
            "CPU times: user 6.86 s, sys: 12.5 ms, total: 6.88 s\n",
            "Wall time: 6.99 s\n"
          ]
        }
      ],
      "source": [
        "%%time\n",
        "model = RandomForestClassifier(n_estimators=50, max_leaf_nodes=16, random_state=42)\n",
        "model.fit(X_train, y_train.values.ravel())\n",
        "#Predict\n",
        "y_pred = model.predict(X_test)\n",
        "#Print result\n",
        "print(accuracy_score(y_test, y_pred))"
      ]
    },
    {
      "cell_type": "markdown",
      "source": [
        "0.7355\n",
        "CPU times: user 6.86 s, sys: 12.5 ms, total: 6.88 s\n",
        "Wall time: 6.99 s"
      ],
      "metadata": {
        "id": "vtwoMRdlizjl"
      }
    },
    {
      "cell_type": "markdown",
      "source": [
        "### Best accuracy from Random Forest"
      ],
      "metadata": {
        "id": "iKLYFuRLAACW"
      }
    },
    {
      "cell_type": "code",
      "source": [
        "%%time\n",
        "# random forest\n",
        "warnings.filterwarnings(\"ignore\")\n",
        "model = RandomForestClassifier(n_estimators=64, n_jobs=-1) \n",
        "model.fit(X_train, y_train)\n",
        "#Predict\n",
        "# output = model.predict(X_test)\n",
        "y_pred = model.predict(X_test)\n",
        "print(accuracy_score(y_test, y_pred))\n"
      ],
      "metadata": {
        "colab": {
          "base_uri": "https://localhost:8080/"
        },
        "id": "ZHnIkjTijGtY",
        "outputId": "970e4928-547d-479b-de10-5dbc90140fa9"
      },
      "execution_count": null,
      "outputs": [
        {
          "output_type": "stream",
          "name": "stdout",
          "text": [
            "0.8725\n",
            "CPU times: user 38.7 s, sys: 119 ms, total: 38.8 s\n",
            "Wall time: 24.4 s\n"
          ]
        }
      ]
    },
    {
      "cell_type": "markdown",
      "source": [
        "0.8725\n",
        "\n",
        "\n",
        "CPU times: user 38.7 s, sys: 119 ms, total: 38.8 s\n",
        "\n",
        "Wall time: 24.4 s"
      ],
      "metadata": {
        "id": "gwl3XmlJ_5_n"
      }
    },
    {
      "cell_type": "markdown",
      "metadata": {
        "id": "csMX_goy5vlD"
      },
      "source": [
        "## Bagging"
      ]
    },
    {
      "cell_type": "code",
      "source": [
        "%%time\n",
        "tree_clf = DecisionTreeClassifier(random_state=42)\n",
        "tree_clf.fit(X_train, y_train)\n",
        "y_pred_tree = tree_clf.predict(X_test)\n",
        "print(\"Accuracy on test set:\")\n",
        "print(accuracy_score(y_test, y_pred_tree))"
      ],
      "metadata": {
        "colab": {
          "base_uri": "https://localhost:8080/"
        },
        "id": "yKpBLNemefg5",
        "outputId": "06a3ba0e-3ec7-4d0e-df41-105a96dd42bf"
      },
      "execution_count": null,
      "outputs": [
        {
          "output_type": "stream",
          "name": "stdout",
          "text": [
            "Accuracy on test set:\n",
            "0.7825\n",
            "CPU times: user 19.6 s, sys: 124 ms, total: 19.7 s\n",
            "Wall time: 19.8 s\n"
          ]
        }
      ]
    },
    {
      "cell_type": "markdown",
      "source": [
        "Accuracy on test set:\n",
        "0.7825\n",
        "\n",
        "CPU times: user 18.6 s, sys: 3.55 ms, total: 18.6 s\n",
        "\n",
        "Wall time: 19.1 s"
      ],
      "metadata": {
        "id": "XLP2iUPnfJZ3"
      }
    },
    {
      "cell_type": "markdown",
      "source": [
        "### Bagging with decission tree"
      ],
      "metadata": {
        "id": "JXPUCCBQecjC"
      }
    },
    {
      "cell_type": "code",
      "source": [
        "%%time\n",
        "bag_clf=BaggingClassifier(DecisionTreeClassifier(random_state=rs),\n",
        "    n_estimators=500, max_samples=100, bootstrap=True, n_jobs=-1,\n",
        "    random_state=rs)\n",
        "bag_clf.fit(X_train, y_train)\n",
        "y_pred=bag_clf.predict(X_test)\n",
        "print(\"Accuracy on test set:\")\n",
        "print(accuracy_score(y_test, y_pred))"
      ],
      "metadata": {
        "colab": {
          "base_uri": "https://localhost:8080/"
        },
        "id": "OvP0cyuoecSR",
        "outputId": "4b0a1056-e886-4d1c-d36d-b85b1a6d5d0a"
      },
      "execution_count": null,
      "outputs": [
        {
          "output_type": "stream",
          "name": "stdout",
          "text": [
            "Accuracy on test set:\n",
            "0.7575\n",
            "CPU times: user 2.02 s, sys: 433 ms, total: 2.46 s\n",
            "Wall time: 3min 21s\n"
          ]
        }
      ]
    },
    {
      "cell_type": "markdown",
      "source": [
        "Accuracy on test set:\n",
        "0.7575\n",
        "\n",
        "CPU times: user 2.02 s, sys: 433 ms, total: 2.46 s\n",
        "\n",
        "Wall time: 3min 21s"
      ],
      "metadata": {
        "id": "FeHf25LuegSv"
      }
    },
    {
      "cell_type": "markdown",
      "source": [
        "### Bagging with using svm (Best accuracy)"
      ],
      "metadata": {
        "id": "yyNtb-zdt7mb"
      }
    },
    {
      "cell_type": "code",
      "source": [
        "%%time\n",
        "\n",
        "from sklearn.svm import LinearSVC\n",
        "from sklearn.ensemble import BaggingClassifier\n",
        "estimator = LinearSVC()\n",
        "n_estimators = 10\n",
        "n_jobs = 1\n",
        "model1 = BaggingClassifier(base_estimator=estimator,\n",
        "                          n_estimators=n_estimators,\n",
        "                          max_samples=1./n_estimators,\n",
        "                          n_jobs=n_jobs)\n",
        "\n",
        "\n",
        "model1.fit(X_train_norm,y_train)\n",
        "y_pred1= model1.predict(X_train_norm)\n",
        "\n",
        "print(\"Train_accuracy:\", model1.score(X_train_norm, y_train))\n",
        "print(\"Test_accuracy:\", model1.score(X_test_norm, y_test))\n",
        "# print(accuracy_score(y_test, y_pred1))"
      ],
      "metadata": {
        "colab": {
          "base_uri": "https://localhost:8080/"
        },
        "id": "GZT5rP_Dfj6y",
        "outputId": "ef2f1742-e5c7-43bc-8d5c-b0d7b27b8619"
      },
      "execution_count": null,
      "outputs": [
        {
          "output_type": "stream",
          "name": "stderr",
          "text": [
            "/usr/local/lib/python3.7/dist-packages/sklearn/svm/_base.py:1208: ConvergenceWarning: Liblinear failed to converge, increase the number of iterations.\n",
            "  ConvergenceWarning,\n",
            "/usr/local/lib/python3.7/dist-packages/sklearn/svm/_base.py:1208: ConvergenceWarning: Liblinear failed to converge, increase the number of iterations.\n",
            "  ConvergenceWarning,\n",
            "/usr/local/lib/python3.7/dist-packages/sklearn/svm/_base.py:1208: ConvergenceWarning: Liblinear failed to converge, increase the number of iterations.\n",
            "  ConvergenceWarning,\n",
            "/usr/local/lib/python3.7/dist-packages/sklearn/svm/_base.py:1208: ConvergenceWarning: Liblinear failed to converge, increase the number of iterations.\n",
            "  ConvergenceWarning,\n",
            "/usr/local/lib/python3.7/dist-packages/sklearn/svm/_base.py:1208: ConvergenceWarning: Liblinear failed to converge, increase the number of iterations.\n",
            "  ConvergenceWarning,\n",
            "/usr/local/lib/python3.7/dist-packages/sklearn/svm/_base.py:1208: ConvergenceWarning: Liblinear failed to converge, increase the number of iterations.\n",
            "  ConvergenceWarning,\n",
            "/usr/local/lib/python3.7/dist-packages/sklearn/svm/_base.py:1208: ConvergenceWarning: Liblinear failed to converge, increase the number of iterations.\n",
            "  ConvergenceWarning,\n",
            "/usr/local/lib/python3.7/dist-packages/sklearn/svm/_base.py:1208: ConvergenceWarning: Liblinear failed to converge, increase the number of iterations.\n",
            "  ConvergenceWarning,\n",
            "/usr/local/lib/python3.7/dist-packages/sklearn/svm/_base.py:1208: ConvergenceWarning: Liblinear failed to converge, increase the number of iterations.\n",
            "  ConvergenceWarning,\n",
            "/usr/local/lib/python3.7/dist-packages/sklearn/svm/_base.py:1208: ConvergenceWarning: Liblinear failed to converge, increase the number of iterations.\n",
            "  ConvergenceWarning,\n"
          ]
        },
        {
          "output_type": "stream",
          "name": "stdout",
          "text": [
            "Train_accuracy: 0.8610714285714286\n",
            "Test_accuracy: 0.8325\n",
            "CPU times: user 1min 1s, sys: 2.12 s, total: 1min 3s\n",
            "Wall time: 60 s\n"
          ]
        }
      ]
    },
    {
      "cell_type": "markdown",
      "source": [
        "Train_accuracy: 0.8610714285714286\n",
        "\n",
        "Test_accuracy: 0.8325\n",
        "\n",
        "CPU times: user 1min 1s, sys: 2.12 s, total: 1min 3s\n",
        "\n",
        "Wall time: 60 s"
      ],
      "metadata": {
        "id": "KfXfQ_GJh4Ws"
      }
    },
    {
      "cell_type": "markdown",
      "metadata": {
        "id": "YKvElnzZ5vyW"
      },
      "source": [
        "## Boosting"
      ]
    },
    {
      "cell_type": "markdown",
      "metadata": {
        "id": "hJeEz7KP5v8R"
      },
      "source": [
        "### HistGradientBoostingClassifier"
      ]
    },
    {
      "cell_type": "markdown",
      "source": [
        "HistGradientBoostingClassifier with original data"
      ],
      "metadata": {
        "id": "kxz6kKfguE-t"
      }
    },
    {
      "cell_type": "code",
      "execution_count": null,
      "metadata": {
        "id": "_jMyikLwjfQq",
        "colab": {
          "base_uri": "https://localhost:8080/"
        },
        "outputId": "6bbaed7b-c197-491e-b1b0-aeeecc16b805"
      },
      "outputs": [
        {
          "output_type": "stream",
          "name": "stdout",
          "text": [
            "0.867\n",
            "CPU times: user 3min 32s, sys: 2.45 s, total: 3min 34s\n",
            "Wall time: 2min 34s\n"
          ]
        }
      ],
      "source": [
        "%%time\n",
        "from sklearn.ensemble import HistGradientBoostingClassifier\n",
        "clf = HistGradientBoostingClassifier(max_iter=100).fit(X_train_pca, y_train)\n",
        "clf.score(X_test_pca, y_test)\n",
        "print(clf.score(X_test_pca, y_test))"
      ]
    },
    {
      "cell_type": "markdown",
      "source": [
        "0.867\n",
        "\n",
        "\n",
        "CPU times: user 3min 32s, sys: 2.45 s, total: 3min 34s\n",
        "\n",
        "Wall time: 2min 34s"
      ],
      "metadata": {
        "id": "8gRCw6j3tDn4"
      }
    },
    {
      "cell_type": "markdown",
      "source": [
        "HistGradientBoostingClassifier with original data"
      ],
      "metadata": {
        "id": "BAkfOMHkuIlQ"
      }
    },
    {
      "cell_type": "code",
      "source": [
        "%%time\n",
        "from sklearn.ensemble import HistGradientBoostingClassifier\n",
        "clf = HistGradientBoostingClassifier(max_iter=100).fit(X_train, y_train)\n",
        "clf.score(X_test, y_test)\n",
        "print(clf.score(X_test, y_test))"
      ],
      "metadata": {
        "colab": {
          "base_uri": "https://localhost:8080/"
        },
        "id": "lerczAwDpw9w",
        "outputId": "1a48961b-44b8-4777-ea00-4b147a362214"
      },
      "execution_count": null,
      "outputs": [
        {
          "output_type": "stream",
          "name": "stdout",
          "text": [
            "0.8895\n",
            "CPU times: user 5min 41s, sys: 5.17 s, total: 5min 46s\n",
            "Wall time: 3min\n"
          ]
        }
      ]
    },
    {
      "cell_type": "markdown",
      "source": [
        "0.8895\n",
        "\n",
        "CPU times: user 5min 41s, sys: 5.17 s, total: 5min 46s\n",
        "\n",
        "Wall time: 3min"
      ],
      "metadata": {
        "id": "3LFTPOSltHRy"
      }
    },
    {
      "cell_type": "code",
      "source": [
        "%%time\n",
        "from sklearn.ensemble import HistGradientBoostingClassifier\n",
        "clf = HistGradientBoostingClassifier(max_iter=100).fit(X_train_std, y_train)\n",
        "clf.score(X_test_std, y_test)\n",
        "print(clf.score(X_test_std, y_test))"
      ],
      "metadata": {
        "colab": {
          "base_uri": "https://localhost:8080/"
        },
        "id": "atdoePivp2uu",
        "outputId": "2761f46b-543d-4528-be56-dd5b542d97ba"
      },
      "execution_count": null,
      "outputs": [
        {
          "output_type": "stream",
          "name": "stdout",
          "text": [
            "0.8715\n",
            "CPU times: user 5min 52s, sys: 5.17 s, total: 5min 57s\n",
            "Wall time: 3min 4s\n"
          ]
        }
      ]
    },
    {
      "cell_type": "markdown",
      "source": [
        "0.8715\n",
        "\n",
        "CPU times: user 5min 52s, sys: 5.17 s, total: 5min 57s\n",
        "\n",
        "Wall time: 3min 4s"
      ],
      "metadata": {
        "id": "URZKET93tJ7k"
      }
    },
    {
      "cell_type": "code",
      "source": [
        "%%time\n",
        "from sklearn.ensemble import HistGradientBoostingClassifier\n",
        "clf = HistGradientBoostingClassifier(max_iter=100).fit(X_train_pca, y_train)\n",
        "clf.score(X_test_pca, y_test)\n",
        "print(clf.score(X_test_pca, y_test))"
      ],
      "metadata": {
        "colab": {
          "base_uri": "https://localhost:8080/"
        },
        "id": "wDXQuphUqFf6",
        "outputId": "b0588b87-b51b-4164-c25f-809850e5e715"
      },
      "execution_count": null,
      "outputs": [
        {
          "output_type": "stream",
          "name": "stdout",
          "text": [
            "0.871\n",
            "CPU times: user 2min 39s, sys: 2.38 s, total: 2min 41s\n",
            "Wall time: 1min 23s\n"
          ]
        }
      ]
    },
    {
      "cell_type": "markdown",
      "source": [
        "0.871\n",
        "\n",
        "CPU times: user 2min 39s, sys: 2.38 s, total: 2min 41s\n",
        "\n",
        "Wall time: 1min 23s"
      ],
      "metadata": {
        "id": "6h68nDzptMPn"
      }
    },
    {
      "cell_type": "markdown",
      "source": [
        "### Adaboost with SGDClassifier"
      ],
      "metadata": {
        "id": "1hN7WwDld4SX"
      }
    },
    {
      "cell_type": "code",
      "source": [
        "# adaboost in svm\n",
        "%%time\n",
        "from sklearn.linear_model import SGDClassifier\n",
        "adab_test = AdaBoostClassifier(SGDClassifier(loss='hinge'), algorithm='SAMME')\n",
        "adab_test.fit(X_train_norm, y_train)\n",
        "y_pred_ada = adab_test.predict(X_test_norm)\n",
        "\n",
        "print('Train accuracy',adab_test.score(X_train_norm, y_train))\n",
        "print('Test accuracy',adab_test.score(X_test_norm, y_test))\n"
      ],
      "metadata": {
        "id": "LNNU0PuQd8E-"
      },
      "execution_count": null,
      "outputs": []
    },
    {
      "cell_type": "markdown",
      "source": [
        "Train accuracy 0.7156428571428571\n",
        "\n",
        "Test accuracy 0.704\n",
        "\n",
        "CPU times: user 6min 58s, sys: 7.15 s, total: 7min 6s\n",
        "\n",
        "Wall time: 6min 56s"
      ],
      "metadata": {
        "id": "lkvDex1meJzb"
      }
    },
    {
      "cell_type": "markdown",
      "metadata": {
        "id": "OJiq2veQZi_0"
      },
      "source": [
        "### Gradient Boosting"
      ]
    },
    {
      "cell_type": "code",
      "execution_count": null,
      "metadata": {
        "id": "hMb8BtOAZnHp",
        "colab": {
          "base_uri": "https://localhost:8080/"
        },
        "outputId": "df17d109-e334-4327-d76f-42af08d48757"
      },
      "outputs": [
        {
          "output_type": "stream",
          "name": "stdout",
          "text": [
            "Gradient Boosting - accuracy on test set:\n",
            "0.841\n",
            "CPU times: user 27min 42s, sys: 912 ms, total: 27min 43s\n",
            "Wall time: 27min 52s\n"
          ]
        }
      ],
      "source": [
        "%%time\n",
        "from sklearn.ensemble import GradientBoostingClassifier\n",
        "\n",
        "gb_clf = GradientBoostingClassifier(max_depth=1, n_estimators=200, learning_rate=0.2, random_state=42)\n",
        "gb_clf.fit(X_train, y_train)\n",
        "y_pred_gb = gb_clf.predict(X_test)\n",
        "print(\"Gradient Boosting - accuracy on test set:\")\n",
        "print(accuracy_score(y_test, y_pred_gb))"
      ]
    },
    {
      "cell_type": "markdown",
      "source": [
        "Gradient Boosting - accuracy on test set:\n",
        "0.841\n",
        "\n",
        "CPU times: user 24min 21s, sys: 1.14 s, total: 24min 22s\n",
        "\n",
        "Wall time: 24min 20s"
      ],
      "metadata": {
        "id": "x_1gShrKYl7P"
      }
    },
    {
      "cell_type": "markdown",
      "source": [
        "### LGBMClassifier"
      ],
      "metadata": {
        "id": "1zSrp_woZOdZ"
      }
    },
    {
      "cell_type": "code",
      "source": [
        "%%time\n",
        "param_grid=[{'max_depth':[5,10],\n",
        "           'n_estimators':[100],\n",
        "           'learning_rate':[0.05,0.1],\n",
        "           'colsample_bytree':[0.8,0.95]}]\n",
        "lgb_gs = GridSearchCV(LGBMClassifier(random_state=42), param_grid)\n",
        "lgb_gs.fit(X_train, y_train)\n",
        "lgb_gssss = lgb_gs.predict(X_test)\n",
        "print(accuracy_score(y_test, lgb_gssss))\n",
        "print(\"Best parameters: {}\".format(lgb_gs.best_params_))"
      ],
      "metadata": {
        "id": "o3-z6PHCZP1B"
      },
      "execution_count": null,
      "outputs": []
    },
    {
      "cell_type": "markdown",
      "source": [
        "0.8845\n",
        "\n",
        "CPU times: user 3h 3min 36s, sys: 19.1 s, total: 3h 3min 55s\n",
        "\n",
        "Wall time: 1h 34min 11s\n",
        "\n",
        "Best parameters: {'colsample_bytree': 0.95, 'learning_rate': 0.1, 'max_depth': 10, 'n_estimators': 100}"
      ],
      "metadata": {
        "id": "t0aJg5toZagN"
      }
    },
    {
      "cell_type": "markdown",
      "source": [
        "### Best accuracy from Boosting"
      ],
      "metadata": {
        "id": "CKR_JScMBJbT"
      }
    },
    {
      "cell_type": "code",
      "source": [
        "%%time\n",
        "from sklearn.ensemble import HistGradientBoostingClassifier\n",
        "clf = HistGradientBoostingClassifier(loss = \"categorical_crossentropy\", max_leaf_nodes = None,min_samples_leaf = 255,  max_iter=100).fit(X_train, y_train)\n",
        "clf.score(X_test, y_test)\n",
        "print(clf.score(X_test, y_test))"
      ],
      "metadata": {
        "colab": {
          "base_uri": "https://localhost:8080/"
        },
        "id": "s-wPoXL_2qnk",
        "outputId": "6a5fd37c-ad83-4835-b49e-7a3ae679adce"
      },
      "execution_count": null,
      "outputs": [
        {
          "output_type": "stream",
          "name": "stdout",
          "text": [
            "0.8915\n",
            "CPU times: user 9min 28s, sys: 7.73 s, total: 9min 36s\n",
            "Wall time: 5min 10s\n"
          ]
        }
      ]
    },
    {
      "cell_type": "markdown",
      "source": [
        "0.8915\n",
        "\n",
        "CPU times: user 9min 28s, sys: 7.73 s, total: 9min 36s\n",
        "\n",
        "Wall time: 5min 10s"
      ],
      "metadata": {
        "id": "zAzKU5xq-z_Y"
      }
    },
    {
      "cell_type": "markdown",
      "source": [
        "# Algorithms with the best accuracy is by using **HistGradientBoostingClassifier**"
      ],
      "metadata": {
        "id": "qpe9DMO34fxL"
      }
    },
    {
      "cell_type": "markdown",
      "source": [
        "# Appendix"
      ],
      "metadata": {
        "id": "PO7V65Jij73K"
      }
    },
    {
      "cell_type": "markdown",
      "source": [
        "The movement of increase the contrast of the graph. \n",
        "\n"
      ],
      "metadata": {
        "id": "LBUoOyXrkezV"
      }
    },
    {
      "cell_type": "markdown",
      "source": [
        "## Cover data from 0 ~ 50 to 0 and 200 ~ 255 to 255."
      ],
      "metadata": {
        "id": "_4Wm9Ghhll5q"
      }
    },
    {
      "cell_type": "code",
      "source": [
        "%%time\n",
        "for X in range(29999):\n",
        "    for Y in range(785):\n",
        "        if int(df_train.iloc[[X],[Y]].values[0]) < 51:\n",
        "            df_train.iloc[[X],[Y]] = 0\n",
        "        if int(df_train.iloc[[X],[Y]].values[0]) > 200:\n",
        "            df_train.iloc[[X],[Y]] = 255\n",
        "df_train.to_csv('df_train50.csv')"
      ],
      "metadata": {
        "id": "y9yXCPJYj-QI"
      },
      "execution_count": null,
      "outputs": []
    },
    {
      "cell_type": "markdown",
      "source": [
        "CPU times: user 7h 46min 27s, \n",
        "\n",
        "sys: 2min 50s, total: 7h 49min 17s\n",
        "\n",
        "Wall time: 7h 55min 2s\n",
        "\n"
      ],
      "metadata": {
        "id": "vSqH8OMmkPaq"
      }
    },
    {
      "cell_type": "code",
      "source": [
        "for X in range(4999):\n",
        "    for Y in range(785):\n",
        "        if int(df_test.iloc[[X],[Y]].values[0]) < 50:\n",
        "            df_test.iloc[[X],[Y]] = 0\n",
        "        if int(df_test.iloc[[X],[Y]].values[0]) > 200:\n",
        "            df_test.iloc[[X],[Y]] = 255\n",
        "df_test.to_csv('df_test50.csv')"
      ],
      "metadata": {
        "id": "OOflHnNgj-qn"
      },
      "execution_count": null,
      "outputs": []
    },
    {
      "cell_type": "markdown",
      "source": [
        "## Cover data from 0 ~ 100 to 0 and 150 ~ 255 to 255."
      ],
      "metadata": {
        "id": "OpfgFSqYlG-Z"
      }
    },
    {
      "cell_type": "code",
      "source": [
        "%%time\n",
        "for X in range(29999):\n",
        "    for Y in range(785):\n",
        "        if int(df_train.iloc[[X],[Y]].values[0]) < 100:\n",
        "            df_train.iloc[[X],[Y]] = 0\n",
        "        if int(df_train.iloc[[X],[Y]].values[0]) > 150:\n",
        "            df_train.iloc[[X],[Y]] = 255\n",
        "\n",
        "for X in range(4999):\n",
        "    for Y in range(785):\n",
        "        if int(df_test.iloc[[X],[Y]].values[0]) < 100:\n",
        "            df_test.iloc[[X],[Y]] = 0\n",
        "        if int(df_test.iloc[[X],[Y]].values[0]) > 150:\n",
        "            df_test.iloc[[X],[Y]] = 255\n",
        "\n",
        "\n",
        "df_train.to_csv('df_train100.csv')\n",
        "df_test.to_csv('df_test100.csv')"
      ],
      "metadata": {
        "id": "MY6Gete3j_0M"
      },
      "execution_count": null,
      "outputs": []
    },
    {
      "cell_type": "markdown",
      "source": [
        "CPU times: user 9h 13min 15s, sys: 3min 2s, total: 9h 16min 18s\n",
        "Wall time: 9h 22min 32s"
      ],
      "metadata": {
        "id": "t7pXVyfhltyt"
      }
    },
    {
      "cell_type": "markdown",
      "source": [
        "## To test our code"
      ],
      "metadata": {
        "id": "NeOF-5nT-kjB"
      }
    },
    {
      "cell_type": "code",
      "source": [
        "import os\n",
        "import warnings\n",
        "import numpy as np\n",
        "import pandas as pd \n",
        "import seaborn as sns\n",
        "from sklearn import tree\n",
        "from sklearn import metrics\n",
        "from sklearn.svm import SVC\n",
        "import matplotlib.pyplot as plt\n",
        "from sklearn import preprocessing\n",
        "\n",
        "# from google.colab import drive\n",
        "# drive.mount('/content/gdrive')\n",
        "\n",
        "\n",
        "from sklearn.naive_bayes import GaussianNB\n",
        "from sklearn.naive_bayes import BernoulliNB\n",
        "from sklearn.naive_bayes import ComplementNB\n",
        "from sklearn.naive_bayes import MultinomialNB\n",
        "\n",
        "\n",
        "from sklearn.linear_model import LogisticRegression\n",
        "from sklearn.metrics import plot_confusion_matrix \n",
        "from sklearn.metrics import accuracy_score \n",
        "from sklearn.metrics import classification_report \n",
        "from sklearn.metrics import confusion_matrix \n",
        "\n",
        "from sklearn.ensemble import BaggingClassifier\n",
        "from sklearn.ensemble import AdaBoostClassifier\n",
        "from sklearn.ensemble import RandomForestClassifier\n",
        "\n",
        "from lightgbm import LGBMClassifier\n",
        "\n",
        "from sklearn.neural_network import MLPClassifier\n",
        "from sklearn.tree import DecisionTreeClassifier\n",
        "from sklearn.exceptions import ConvergenceWarning\n",
        "from sklearn.model_selection import GridSearchCV\n",
        "from sklearn.preprocessing import StandardScaler\n",
        "from sklearn.decomposition import PCA\n",
        "from sklearn.neighbors import KNeighborsClassifier ##\n"
      ],
      "metadata": {
        "id": "_Q60E2vR2qBR"
      },
      "execution_count": null,
      "outputs": []
    },
    {
      "cell_type": "code",
      "source": [
        "# change to your own path\n",
        "df_train = pd.read_csv('/content/gdrive/MyDrive/Input/train/train.csv') \n",
        "df_test = pd.read_csv('/content/gdrive/MyDrive/Input/test/test_input.csv')"
      ],
      "metadata": {
        "id": "ktsP1Q5F2qIO"
      },
      "execution_count": null,
      "outputs": []
    },
    {
      "cell_type": "code",
      "source": [
        "%%time\n",
        "\n",
        "X_train = df_train.drop('label', axis=1)\n",
        "y_train = df_train['label']\n",
        "X_test = df_test\n",
        "\n",
        "\n",
        "#Original data\n",
        "sd_train=np.nanstd(X_train)\n",
        "sd_test=np.nanstd(X_test)\n",
        "print('Standard deviation of the train dataset: ', sd_train)\n",
        "print('Standard deviation of the test dataset: ', sd_test)\n",
        "\n",
        "# Normalization\n",
        "X_train_norm = preprocessing.MinMaxScaler().fit_transform(X_train)\n",
        "X_test_norm = preprocessing.MinMaxScaler().fit_transform(X_test)\n",
        "sd_nor_train=np.nanstd(X_train_norm)\n",
        "sd_nor_test=np.nanstd(X_test_norm )\n",
        "print('Standard deviation after normalization of the train dataset: ', sd_nor_train)\n",
        "print('Standard deviation after normalization of the test dataset: ', sd_nor_test)\n",
        "# Standardization\n",
        "X_train_std =StandardScaler().fit_transform(X_train)\n",
        "X_test_std =StandardScaler().fit_transform(X_test)\n",
        "sdt_sta_train=np.nanstd(X_train_std )\n",
        "sdt_sta_test=np.nanstd(X_test_std)\n",
        "print('Standard deviation after standardization of the train dataset:', sdt_sta_train)\n",
        "print('Standard deviation after standardization of the test dataset:', sdt_sta_test)\n",
        "# PCA\n",
        "#fit by PCA method\n",
        "pca = PCA(n_components=0.95).fit(X_train_std)\n",
        "X_train_pca =pca.transform(X_train_std)\n",
        "X_test_pca =pca.transform(X_test_std)\n",
        "\n",
        "print(\"pca train data shape: {}\".format(str(X_train_pca.shape)))\n",
        "print(\"pca test data shape:: {}\".format(str(X_test_pca.shape)))\n",
        "\n",
        "#check standard devication\n",
        "sd_pca=np.nanstd(X_train_pca)\n",
        "print('Standard devication: ', sd_pca)\n"
      ],
      "metadata": {
        "id": "NmjwmxXP2qQ0"
      },
      "execution_count": null,
      "outputs": []
    },
    {
      "cell_type": "code",
      "source": [
        "%%time\n",
        "from sklearn.ensemble import HistGradientBoostingClassifier\n",
        "clf = HistGradientBoostingClassifier(max_iter=100).fit(X_train, y_train)\n",
        "# clf.score(X_test, y_test)\n",
        "output = clf.predict(X_test)"
      ],
      "metadata": {
        "id": "5_5m0xZg2qYy"
      },
      "execution_count": null,
      "outputs": []
    },
    {
      "cell_type": "code",
      "source": [
        "output"
      ],
      "metadata": {
        "id": "PfYJ7MAr2qgB"
      },
      "execution_count": null,
      "outputs": []
    },
    {
      "cell_type": "code",
      "source": [
        "output_df = pd.DataFrame(output, columns = ['label'])\n",
        "output_df.to_csv('./Output/test_output.csv', sep=\",\", float_format= '%d', index_label = \"id\")"
      ],
      "metadata": {
        "id": "3JWKYLLg_Or4"
      },
      "execution_count": null,
      "outputs": []
    },
    {
      "cell_type": "markdown",
      "source": [
        "# try"
      ],
      "metadata": {
        "id": "pRUGAppzHOD-"
      }
    },
    {
      "cell_type": "code",
      "source": [],
      "metadata": {
        "colab": {
          "base_uri": "https://localhost:8080/"
        },
        "id": "Ip3rIfoJ3aPL",
        "outputId": "f7d465ae-2c13-4a62-b210-6c8792eaf6c0"
      },
      "execution_count": null,
      "outputs": [
        {
          "output_type": "stream",
          "name": "stdout",
          "text": [
            "0.876\n",
            "CPU times: user 5min 44s, sys: 4.45 s, total: 5min 49s\n",
            "Wall time: 3min 13s\n"
          ]
        }
      ]
    },
    {
      "cell_type": "code",
      "source": [
        "\n"
      ],
      "metadata": {
        "colab": {
          "base_uri": "https://localhost:8080/",
          "height": 1000
        },
        "id": "RErHh6CW8TKc",
        "outputId": "4097aec2-93f2-4988-dc74-7380babb94e3"
      },
      "execution_count": null,
      "outputs": [
        {
          "output_type": "stream",
          "name": "stdout",
          "text": [
            "ha\n",
            "random_state= 3\n",
            "0.881\n",
            "______________________________________\n",
            "random_state= 1\n",
            "0.876\n",
            "______________________________________\n",
            "random_state= 2\n",
            "0.883\n",
            "______________________________________\n",
            "random_state= 3\n",
            "0.881\n",
            "______________________________________\n",
            "random_state= 4\n",
            "0.882\n",
            "______________________________________\n",
            "random_state= 5\n",
            "0.881\n",
            "______________________________________\n",
            "random_state= 6\n",
            "0.8855\n",
            "______________________________________\n",
            "random_state= 7\n",
            "0.8895\n",
            "______________________________________\n",
            "random_state= 8\n",
            "0.878\n",
            "______________________________________\n",
            "random_state= 9\n",
            "0.8835\n",
            "______________________________________\n",
            "random_state= 10\n",
            "0.8845\n",
            "______________________________________\n",
            "random_state= 11\n",
            "0.8735\n",
            "______________________________________\n",
            "random_state= 12\n",
            "0.885\n",
            "______________________________________\n",
            "random_state= 13\n",
            "0.881\n",
            "______________________________________\n",
            "random_state= 14\n",
            "0.886\n",
            "______________________________________\n",
            "random_state= 15\n",
            "0.8835\n",
            "______________________________________\n",
            "random_state= 16\n",
            "0.877\n",
            "______________________________________\n",
            "random_state= 17\n",
            "0.8775\n",
            "______________________________________\n",
            "random_state= 18\n",
            "0.8805\n",
            "______________________________________\n",
            "random_state= 19\n",
            "0.879\n",
            "______________________________________\n",
            "random_state= 20\n",
            "0.8835\n",
            "______________________________________\n",
            "random_state= 21\n",
            "0.8845\n",
            "______________________________________\n",
            "random_state= 22\n",
            "0.8855\n",
            "______________________________________\n",
            "random_state= 23\n",
            "0.8855\n",
            "______________________________________\n",
            "random_state= 24\n",
            "0.879\n",
            "______________________________________\n",
            "random_state= 25\n",
            "0.886\n",
            "______________________________________\n",
            "random_state= 26\n",
            "0.884\n",
            "______________________________________\n",
            "random_state= 27\n",
            "0.8885\n",
            "______________________________________\n",
            "random_state= 28\n",
            "0.879\n",
            "______________________________________\n",
            "random_state= 29\n",
            "0.8825\n",
            "______________________________________\n",
            "random_state= 30\n",
            "0.8815\n",
            "______________________________________\n",
            "random_state= 31\n",
            "0.887\n",
            "______________________________________\n",
            "random_state= 32\n"
          ]
        },
        {
          "output_type": "error",
          "ename": "KeyboardInterrupt",
          "evalue": "ignored",
          "traceback": [
            "\u001b[0;31m---------------------------------------------------------------------------\u001b[0m",
            "\u001b[0;31mKeyboardInterrupt\u001b[0m                         Traceback (most recent call last)",
            "\u001b[0;32m<ipython-input-63-63eaa2b02329>\u001b[0m in \u001b[0;36m<module>\u001b[0;34m()\u001b[0m\n\u001b[1;32m      5\u001b[0m   \u001b[0;32mfrom\u001b[0m \u001b[0msklearn\u001b[0m\u001b[0;34m.\u001b[0m\u001b[0mensemble\u001b[0m \u001b[0;32mimport\u001b[0m \u001b[0mHistGradientBoostingClassifier\u001b[0m\u001b[0;34m\u001b[0m\u001b[0;34m\u001b[0m\u001b[0m\n\u001b[1;32m      6\u001b[0m   \u001b[0mprint\u001b[0m\u001b[0;34m(\u001b[0m\u001b[0;34m\"random_state= \"\u001b[0m\u001b[0;34m+\u001b[0m \u001b[0mstr\u001b[0m\u001b[0;34m(\u001b[0m\u001b[0mi\u001b[0m\u001b[0;34m)\u001b[0m\u001b[0;34m)\u001b[0m\u001b[0;34m\u001b[0m\u001b[0;34m\u001b[0m\u001b[0m\n\u001b[0;32m----> 7\u001b[0;31m   \u001b[0mclf\u001b[0m \u001b[0;34m=\u001b[0m \u001b[0mHistGradientBoostingClassifier\u001b[0m\u001b[0;34m(\u001b[0m\u001b[0mrandom_state\u001b[0m\u001b[0;34m=\u001b[0m\u001b[0mi\u001b[0m\u001b[0;34m)\u001b[0m\u001b[0;34m.\u001b[0m\u001b[0mfit\u001b[0m\u001b[0;34m(\u001b[0m\u001b[0mX_train\u001b[0m\u001b[0;34m,\u001b[0m \u001b[0my_train\u001b[0m\u001b[0;34m)\u001b[0m\u001b[0;34m\u001b[0m\u001b[0;34m\u001b[0m\u001b[0m\n\u001b[0m\u001b[1;32m      8\u001b[0m   \u001b[0mclf\u001b[0m\u001b[0;34m.\u001b[0m\u001b[0mscore\u001b[0m\u001b[0;34m(\u001b[0m\u001b[0mX_test\u001b[0m\u001b[0;34m,\u001b[0m \u001b[0my_test\u001b[0m\u001b[0;34m)\u001b[0m\u001b[0;34m\u001b[0m\u001b[0;34m\u001b[0m\u001b[0m\n\u001b[1;32m      9\u001b[0m   \u001b[0mprint\u001b[0m\u001b[0;34m(\u001b[0m\u001b[0mclf\u001b[0m\u001b[0;34m.\u001b[0m\u001b[0mscore\u001b[0m\u001b[0;34m(\u001b[0m\u001b[0mX_test\u001b[0m\u001b[0;34m,\u001b[0m \u001b[0my_test\u001b[0m\u001b[0;34m)\u001b[0m\u001b[0;34m)\u001b[0m\u001b[0;34m\u001b[0m\u001b[0;34m\u001b[0m\u001b[0m\n",
            "\u001b[0;32m/usr/local/lib/python3.7/dist-packages/sklearn/ensemble/_hist_gradient_boosting/gradient_boosting.py\u001b[0m in \u001b[0;36mfit\u001b[0;34m(self, X, y, sample_weight)\u001b[0m\n\u001b[1;32m    524\u001b[0m                     \u001b[0mn_threads\u001b[0m\u001b[0;34m=\u001b[0m\u001b[0mn_threads\u001b[0m\u001b[0;34m,\u001b[0m\u001b[0;34m\u001b[0m\u001b[0;34m\u001b[0m\u001b[0m\n\u001b[1;32m    525\u001b[0m                 )\n\u001b[0;32m--> 526\u001b[0;31m                 \u001b[0mgrower\u001b[0m\u001b[0;34m.\u001b[0m\u001b[0mgrow\u001b[0m\u001b[0;34m(\u001b[0m\u001b[0;34m)\u001b[0m\u001b[0;34m\u001b[0m\u001b[0;34m\u001b[0m\u001b[0m\n\u001b[0m\u001b[1;32m    527\u001b[0m \u001b[0;34m\u001b[0m\u001b[0m\n\u001b[1;32m    528\u001b[0m                 \u001b[0macc_apply_split_time\u001b[0m \u001b[0;34m+=\u001b[0m \u001b[0mgrower\u001b[0m\u001b[0;34m.\u001b[0m\u001b[0mtotal_apply_split_time\u001b[0m\u001b[0;34m\u001b[0m\u001b[0;34m\u001b[0m\u001b[0m\n",
            "\u001b[0;32m/usr/local/lib/python3.7/dist-packages/sklearn/ensemble/_hist_gradient_boosting/grower.py\u001b[0m in \u001b[0;36mgrow\u001b[0;34m(self)\u001b[0m\n\u001b[1;32m    358\u001b[0m         \u001b[0;34m\"\"\"Grow the tree, from root to leaves.\"\"\"\u001b[0m\u001b[0;34m\u001b[0m\u001b[0;34m\u001b[0m\u001b[0m\n\u001b[1;32m    359\u001b[0m         \u001b[0;32mwhile\u001b[0m \u001b[0mself\u001b[0m\u001b[0;34m.\u001b[0m\u001b[0msplittable_nodes\u001b[0m\u001b[0;34m:\u001b[0m\u001b[0;34m\u001b[0m\u001b[0;34m\u001b[0m\u001b[0m\n\u001b[0;32m--> 360\u001b[0;31m             \u001b[0mself\u001b[0m\u001b[0;34m.\u001b[0m\u001b[0msplit_next\u001b[0m\u001b[0;34m(\u001b[0m\u001b[0;34m)\u001b[0m\u001b[0;34m\u001b[0m\u001b[0;34m\u001b[0m\u001b[0m\n\u001b[0m\u001b[1;32m    361\u001b[0m \u001b[0;34m\u001b[0m\u001b[0m\n\u001b[1;32m    362\u001b[0m         \u001b[0mself\u001b[0m\u001b[0;34m.\u001b[0m\u001b[0m_apply_shrinkage\u001b[0m\u001b[0;34m(\u001b[0m\u001b[0;34m)\u001b[0m\u001b[0;34m\u001b[0m\u001b[0;34m\u001b[0m\u001b[0m\n",
            "\u001b[0;32m/usr/local/lib/python3.7/dist-packages/sklearn/ensemble/_hist_gradient_boosting/grower.py\u001b[0m in \u001b[0;36msplit_next\u001b[0;34m(self)\u001b[0m\n\u001b[1;32m    564\u001b[0m             \u001b[0mtic\u001b[0m \u001b[0;34m=\u001b[0m \u001b[0mtime\u001b[0m\u001b[0;34m(\u001b[0m\u001b[0;34m)\u001b[0m\u001b[0;34m\u001b[0m\u001b[0;34m\u001b[0m\u001b[0m\n\u001b[1;32m    565\u001b[0m             \u001b[0;32mif\u001b[0m \u001b[0mshould_split_left\u001b[0m\u001b[0;34m:\u001b[0m\u001b[0;34m\u001b[0m\u001b[0;34m\u001b[0m\u001b[0m\n\u001b[0;32m--> 566\u001b[0;31m                 \u001b[0mself\u001b[0m\u001b[0;34m.\u001b[0m\u001b[0m_compute_best_split_and_push\u001b[0m\u001b[0;34m(\u001b[0m\u001b[0mleft_child_node\u001b[0m\u001b[0;34m)\u001b[0m\u001b[0;34m\u001b[0m\u001b[0;34m\u001b[0m\u001b[0m\n\u001b[0m\u001b[1;32m    567\u001b[0m             \u001b[0;32mif\u001b[0m \u001b[0mshould_split_right\u001b[0m\u001b[0;34m:\u001b[0m\u001b[0;34m\u001b[0m\u001b[0;34m\u001b[0m\u001b[0m\n\u001b[1;32m    568\u001b[0m                 \u001b[0mself\u001b[0m\u001b[0;34m.\u001b[0m\u001b[0m_compute_best_split_and_push\u001b[0m\u001b[0;34m(\u001b[0m\u001b[0mright_child_node\u001b[0m\u001b[0;34m)\u001b[0m\u001b[0;34m\u001b[0m\u001b[0;34m\u001b[0m\u001b[0m\n",
            "\u001b[0;32m/usr/local/lib/python3.7/dist-packages/sklearn/ensemble/_hist_gradient_boosting/grower.py\u001b[0m in \u001b[0;36m_compute_best_split_and_push\u001b[0;34m(self, node)\u001b[0m\n\u001b[1;32m    423\u001b[0m             \u001b[0mnode\u001b[0m\u001b[0;34m.\u001b[0m\u001b[0mvalue\u001b[0m\u001b[0;34m,\u001b[0m\u001b[0;34m\u001b[0m\u001b[0;34m\u001b[0m\u001b[0m\n\u001b[1;32m    424\u001b[0m             \u001b[0mnode\u001b[0m\u001b[0;34m.\u001b[0m\u001b[0mchildren_lower_bound\u001b[0m\u001b[0;34m,\u001b[0m\u001b[0;34m\u001b[0m\u001b[0;34m\u001b[0m\u001b[0m\n\u001b[0;32m--> 425\u001b[0;31m             \u001b[0mnode\u001b[0m\u001b[0;34m.\u001b[0m\u001b[0mchildren_upper_bound\u001b[0m\u001b[0;34m,\u001b[0m\u001b[0;34m\u001b[0m\u001b[0;34m\u001b[0m\u001b[0m\n\u001b[0m\u001b[1;32m    426\u001b[0m         )\n\u001b[1;32m    427\u001b[0m \u001b[0;34m\u001b[0m\u001b[0m\n",
            "\u001b[0;31mKeyboardInterrupt\u001b[0m: "
          ]
        }
      ]
    },
    {
      "cell_type": "code",
      "source": [],
      "metadata": {
        "id": "_F0H3TUhLbRm"
      },
      "execution_count": null,
      "outputs": []
    }
  ],
  "metadata": {
    "colab": {
      "collapsed_sections": [
        "3DUXoWF4uB2y",
        "HOI4n5ioxvds",
        "4HmZp_wqHlN8",
        "xaJdKyBJwhFy",
        "VuLcQCaDNOls",
        "cMJ_Ry-XPXYW",
        "MmWgxBHOPXh9",
        "7Ks7jKnkPXs4",
        "hacfUavlNPQG",
        "XbTBXn5EQbhX",
        "nYrw-xamQbtt",
        "IcJYKmE0QcC0",
        "0PPKk-deVcYr",
        "kmeSza_ZMthW",
        "JuLPkGhSCoo4",
        "DffS2cDPDiTW",
        "Oix_lhIYEIDv",
        "TLUkhsqWEL8y",
        "m6vhfbJv5VKI",
        "yyNtb-zdt7mb",
        "hJeEz7KP5v8R",
        "NeOF-5nT-kjB",
        "pRUGAppzHOD-"
      ],
      "toc_visible": true,
      "provenance": []
    },
    "kernelspec": {
      "display_name": "Python 3",
      "name": "python3"
    },
    "language_info": {
      "name": "python"
    }
  },
  "nbformat": 4,
  "nbformat_minor": 0
}